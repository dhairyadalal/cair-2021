{
 "metadata": {
  "language_info": {
   "codemirror_mode": {
    "name": "ipython",
    "version": 3
   },
   "file_extension": ".py",
   "mimetype": "text/x-python",
   "name": "python",
   "nbconvert_exporter": "python",
   "pygments_lexer": "ipython3",
   "version": "3.8.2"
  },
  "orig_nbformat": 2,
  "kernelspec": {
   "name": "python382jvsc74a57bd0ae33fd632762133c8e3fb8323231e5047482a99a5084595a47cef341a740e680",
   "display_name": "Python 3.8.2 64-bit ('deeplearning': conda)"
  }
 },
 "nbformat": 4,
 "nbformat_minor": 2,
 "cells": [
  {
   "cell_type": "code",
   "execution_count": 29,
   "metadata": {},
   "outputs": [],
   "source": [
    "from rank_bm25 import BM25Okapi\n",
    "import pandas as pd\n",
    "\n",
    "df = pd.read_csv(\"data/parsed_docs.csv\")"
   ]
  },
  {
   "cell_type": "code",
   "execution_count": 27,
   "metadata": {},
   "outputs": [
    {
     "output_type": "stream",
     "name": "stdout",
     "text": [
      "{\n \"16\": {\n  \"map\": 1.0,\n  \"Rprec\": 1.0,\n  \"recall_5\": 0.14705882352941177,\n  \"recall_10\": 0.29411764705882354,\n  \"recall_15\": 0.4411764705882353,\n  \"recall_20\": 0.5882352941176471,\n  \"recall_30\": 0.8823529411764706,\n  \"recall_100\": 1.0,\n  \"recall_200\": 1.0,\n  \"recall_500\": 1.0,\n  \"recall_1000\": 1.0,\n  \"ndcg\": 1.0\n },\n \"17\": {\n  \"map\": 1.0,\n  \"Rprec\": 1.0,\n  \"recall_5\": 0.45454545454545453,\n  \"recall_10\": 0.9090909090909091,\n  \"recall_15\": 1.0,\n  \"recall_20\": 1.0,\n  \"recall_30\": 1.0,\n  \"recall_100\": 1.0,\n  \"recall_200\": 1.0,\n  \"recall_500\": 1.0,\n  \"recall_1000\": 1.0,\n  \"ndcg\": 1.0\n },\n \"18\": {\n  \"map\": 1.0,\n  \"Rprec\": 1.0,\n  \"recall_5\": 0.19230769230769232,\n  \"recall_10\": 0.38461538461538464,\n  \"recall_15\": 0.5769230769230769,\n  \"recall_20\": 0.7692307692307693,\n  \"recall_30\": 1.0,\n  \"recall_100\": 1.0,\n  \"recall_200\": 1.0,\n  \"recall_500\": 1.0,\n  \"recall_1000\": 1.0,\n  \"ndcg\": 1.0\n },\n \"19\": {\n  \"map\": 1.0,\n  \"Rprec\": 1.0,\n  \"recall_5\": 0.625,\n  \"recall_10\": 1.0,\n  \"recall_15\": 1.0,\n  \"recall_20\": 1.0,\n  \"recall_30\": 1.0,\n  \"recall_100\": 1.0,\n  \"recall_200\": 1.0,\n  \"recall_500\": 1.0,\n  \"recall_1000\": 1.0,\n  \"ndcg\": 1.0\n },\n \"20\": {\n  \"map\": 1.0,\n  \"Rprec\": 1.0,\n  \"recall_5\": 0.2631578947368421,\n  \"recall_10\": 0.5263157894736842,\n  \"recall_15\": 0.7894736842105263,\n  \"recall_20\": 1.0,\n  \"recall_30\": 1.0,\n  \"recall_100\": 1.0,\n  \"recall_200\": 1.0,\n  \"recall_500\": 1.0,\n  \"recall_1000\": 1.0,\n  \"ndcg\": 1.0\n }\n}\n"
     ]
    }
   ],
   "source": [
    "import pytrec_eval\n",
    "import json\n",
    "\n",
    "qrel_file = \"data/qrel_train.txt\"\n",
    "\n",
    "qrel_json = {}\n",
    "with open(qrel_file, \"r\") as f:\n",
    "    for line in f.readlines():\n",
    "        line_split = line.split(\"\\t\")\n",
    "        query_id = line_split[0]\n",
    "        doc = line_split[2]\n",
    "        rel = int(line_split[3].strip())\n",
    "\n",
    "        if query_id in qrel_json:\n",
    "            qrel_json[query_id][doc]=rel\n",
    "        else:\n",
    "            qrel_json[query_id]={doc:rel}\n",
    "\n",
    "\n",
    "evaluator = pytrec_eval.RelevanceEvaluator(qrel_json, {'map', 'ndcg',\"recall\", \"Rprec\"})\n",
    "print(json.dumps(evaluator.evaluate(qrel_json), indent=1))"
   ]
  },
  {
   "cell_type": "code",
   "execution_count": 2,
   "metadata": {},
   "outputs": [
    {
     "output_type": "execute_result",
     "data": {
      "text/plain": [
       "                                      docno  \\\n",
       "0       1050324_business_story_4530765.utf8   \n",
       "1       1050907_business_story_5207471.utf8   \n",
       "2       1050811_business_story_5100703.utf8   \n",
       "3       1050610_business_story_4849980.utf8   \n",
       "4       1051226_business_story_5645448.utf8   \n",
       "...                                     ...   \n",
       "392534               en.3.403.491.2007.11.7   \n",
       "392535               en.3.403.360.2007.11.4   \n",
       "392536               en.3.403.430.2007.11.5   \n",
       "392537               en.3.403.407.2007.11.6   \n",
       "392538               en.3.403.347.2007.11.5   \n",
       "\n",
       "                                                     text  \n",
       "0       The Telegraph - Calcutta : Business   Tighter ...  \n",
       "1       The Telegraph - Calcutta : Business   Global S...  \n",
       "2       The Telegraph - Calcutta : Business   RBI eagl...  \n",
       "3       The Telegraph - Calcutta : Business   Posco de...  \n",
       "4       The Telegraph - Calcutta : Business   LOOSE CH...  \n",
       "...                                                   ...  \n",
       "392534  SINGAPORE, Nov 7 (bdnews24.com/Reuters) - Oil ...  \n",
       "392535  CHICAGO, Nov 4 (bdnews24.com/Reuters) - An eff...  \n",
       "392536  PARIS, Nov 5 (bdnews24.com/Reuters) - Airbus p...  \n",
       "392537  Pabna, Nov 5 (bdnews24.com)  Awami League lead...  \n",
       "392538  BANGKOK, Nov 5 (bdnews24.com/Reuters) - Thaila...  \n",
       "\n",
       "[392539 rows x 2 columns]"
      ],
      "text/html": "<div>\n<style scoped>\n    .dataframe tbody tr th:only-of-type {\n        vertical-align: middle;\n    }\n\n    .dataframe tbody tr th {\n        vertical-align: top;\n    }\n\n    .dataframe thead th {\n        text-align: right;\n    }\n</style>\n<table border=\"1\" class=\"dataframe\">\n  <thead>\n    <tr style=\"text-align: right;\">\n      <th></th>\n      <th>docno</th>\n      <th>text</th>\n    </tr>\n  </thead>\n  <tbody>\n    <tr>\n      <th>0</th>\n      <td>1050324_business_story_4530765.utf8</td>\n      <td>The Telegraph - Calcutta : Business   Tighter ...</td>\n    </tr>\n    <tr>\n      <th>1</th>\n      <td>1050907_business_story_5207471.utf8</td>\n      <td>The Telegraph - Calcutta : Business   Global S...</td>\n    </tr>\n    <tr>\n      <th>2</th>\n      <td>1050811_business_story_5100703.utf8</td>\n      <td>The Telegraph - Calcutta : Business   RBI eagl...</td>\n    </tr>\n    <tr>\n      <th>3</th>\n      <td>1050610_business_story_4849980.utf8</td>\n      <td>The Telegraph - Calcutta : Business   Posco de...</td>\n    </tr>\n    <tr>\n      <th>4</th>\n      <td>1051226_business_story_5645448.utf8</td>\n      <td>The Telegraph - Calcutta : Business   LOOSE CH...</td>\n    </tr>\n    <tr>\n      <th>...</th>\n      <td>...</td>\n      <td>...</td>\n    </tr>\n    <tr>\n      <th>392534</th>\n      <td>en.3.403.491.2007.11.7</td>\n      <td>SINGAPORE, Nov 7 (bdnews24.com/Reuters) - Oil ...</td>\n    </tr>\n    <tr>\n      <th>392535</th>\n      <td>en.3.403.360.2007.11.4</td>\n      <td>CHICAGO, Nov 4 (bdnews24.com/Reuters) - An eff...</td>\n    </tr>\n    <tr>\n      <th>392536</th>\n      <td>en.3.403.430.2007.11.5</td>\n      <td>PARIS, Nov 5 (bdnews24.com/Reuters) - Airbus p...</td>\n    </tr>\n    <tr>\n      <th>392537</th>\n      <td>en.3.403.407.2007.11.6</td>\n      <td>Pabna, Nov 5 (bdnews24.com)  Awami League lead...</td>\n    </tr>\n    <tr>\n      <th>392538</th>\n      <td>en.3.403.347.2007.11.5</td>\n      <td>BANGKOK, Nov 5 (bdnews24.com/Reuters) - Thaila...</td>\n    </tr>\n  </tbody>\n</table>\n<p>392539 rows × 2 columns</p>\n</div>"
     },
     "metadata": {},
     "execution_count": 2
    }
   ],
   "source": [
    "df"
   ]
  },
  {
   "cell_type": "code",
   "execution_count": 7,
   "metadata": {},
   "outputs": [
    {
     "output_type": "stream",
     "name": "stderr",
     "text": [
      "Pandas Apply: 100%|██████████| 392539/392539 [00:34<00:00, 11454.50it/s]\n"
     ]
    }
   ],
   "source": [
    "import swifter\n",
    "corpus = df.text.tolist()\n",
    "tokenized_docs = df[\"text\"].swifter.apply(lambda x: [k.lower() for k in x.split()])"
   ]
  },
  {
   "cell_type": "code",
   "execution_count": 8,
   "metadata": {},
   "outputs": [],
   "source": [
    "bm25_idx = BM25Okapi(tokenized_docs)"
   ]
  },
  {
   "cell_type": "code",
   "execution_count": 33,
   "metadata": {},
   "outputs": [],
   "source": [
    "r = bm25_idx.get_scores([tok.lower() for tok in \"Telecom minister A. Raja resignation\".split()])"
   ]
  },
  {
   "cell_type": "code",
   "execution_count": 37,
   "metadata": {},
   "outputs": [],
   "source": [
    "import numpy as np\n",
    "sorted_scores_idx = np.argsort(r)[::-1][:20]"
   ]
  },
  {
   "cell_type": "code",
   "execution_count": 38,
   "metadata": {},
   "outputs": [],
   "source": [
    "run = {\"16\":{}}\n",
    "query = \"16\"\n",
    "for idx in sorted_scores_idx:\n",
    "    score = r[idx]\n",
    "    docno = df.iloc[idx].docno\n",
    "    text = df.iloc[idx].text\n",
    "    run[\"16\"][docno]=score"
   ]
  },
  {
   "cell_type": "code",
   "execution_count": 39,
   "metadata": {},
   "outputs": [
    {
     "output_type": "stream",
     "name": "stdout",
     "text": [
      "{\n \"16\": {\n  \"map\": 0.07434640522875817,\n  \"ndcg\": 0.22922431489191336\n }\n}\n"
     ]
    }
   ],
   "source": [
    "print(json.dumps(evaluator.evaluate(run), indent=1))"
   ]
  },
  {
   "cell_type": "code",
   "execution_count": 13,
   "metadata": {},
   "outputs": [],
   "source": [
    "txt = \"tes.v.s\"\n",
    "txt_id = int(\"\".join([str(ord(chr)) for chr in txt]))"
   ]
  },
  {
   "cell_type": "code",
   "execution_count": 35,
   "metadata": {},
   "outputs": [
    {
     "output_type": "stream",
     "name": "stderr",
     "text": [
      "Pandas Apply: 100%|██████████| 392539/392539 [5:04:28<00:00, 21.49it/s]\n"
     ]
    }
   ],
   "source": [
    "import spacy\n",
    "import swifter\n",
    "\n",
    "nlp = spacy.load('en')\n",
    "\n",
    "df[\"processed_text\"] = df[\"text\"].swifter.apply(lambda x: [tok.lemma_.lower() for tok in nlp(x)])\n"
   ]
  },
  {
   "cell_type": "code",
   "execution_count": 36,
   "metadata": {},
   "outputs": [
    {
     "output_type": "execute_result",
     "data": {
      "text/plain": [
       "                                      docno  \\\n",
       "0       1050324_business_story_4530765.utf8   \n",
       "1       1050907_business_story_5207471.utf8   \n",
       "2       1050811_business_story_5100703.utf8   \n",
       "3       1050610_business_story_4849980.utf8   \n",
       "4       1051226_business_story_5645448.utf8   \n",
       "...                                     ...   \n",
       "392534               en.3.403.491.2007.11.7   \n",
       "392535               en.3.403.360.2007.11.4   \n",
       "392536               en.3.403.430.2007.11.5   \n",
       "392537               en.3.403.407.2007.11.6   \n",
       "392538               en.3.403.347.2007.11.5   \n",
       "\n",
       "                                                     text  \\\n",
       "0       The Telegraph - Calcutta : Business   Tighter ...   \n",
       "1       The Telegraph - Calcutta : Business   Global S...   \n",
       "2       The Telegraph - Calcutta : Business   RBI eagl...   \n",
       "3       The Telegraph - Calcutta : Business   Posco de...   \n",
       "4       The Telegraph - Calcutta : Business   LOOSE CH...   \n",
       "...                                                   ...   \n",
       "392534  SINGAPORE, Nov 7 (bdnews24.com/Reuters) - Oil ...   \n",
       "392535  CHICAGO, Nov 4 (bdnews24.com/Reuters) - An eff...   \n",
       "392536  PARIS, Nov 5 (bdnews24.com/Reuters) - Airbus p...   \n",
       "392537  Pabna, Nov 5 (bdnews24.com)  Awami League lead...   \n",
       "392538  BANGKOK, Nov 5 (bdnews24.com/Reuters) - Thaila...   \n",
       "\n",
       "                                           processed_text  \n",
       "0       [the, telegraph, -, calcutta, :, business,   ,...  \n",
       "1       [the, telegraph, -, calcutta, :, business,   ,...  \n",
       "2       [the, telegraph, -, calcutta, :, business,   ,...  \n",
       "3       [the, telegraph, -, calcutta, :, business,   ,...  \n",
       "4       [the, telegraph, -, calcutta, :, business,   ,...  \n",
       "...                                                   ...  \n",
       "392534  [singapore, ,, nov, 7, (, bdnews24.com/reuter,...  \n",
       "392535  [chicago, ,, nov, 4, (, bdnews24.com/reuter, )...  \n",
       "392536  [paris, ,, nov, 5, (, bdnews24.com/reuters, ),...  \n",
       "392537  [pabna, ,, nov, 5, (, bdnews24.com, ),  , awam...  \n",
       "392538  [bangkok, ,, nov, 5, (, bdnews24.com/reuters, ...  \n",
       "\n",
       "[392539 rows x 3 columns]"
      ],
      "text/html": "<div>\n<style scoped>\n    .dataframe tbody tr th:only-of-type {\n        vertical-align: middle;\n    }\n\n    .dataframe tbody tr th {\n        vertical-align: top;\n    }\n\n    .dataframe thead th {\n        text-align: right;\n    }\n</style>\n<table border=\"1\" class=\"dataframe\">\n  <thead>\n    <tr style=\"text-align: right;\">\n      <th></th>\n      <th>docno</th>\n      <th>text</th>\n      <th>processed_text</th>\n    </tr>\n  </thead>\n  <tbody>\n    <tr>\n      <th>0</th>\n      <td>1050324_business_story_4530765.utf8</td>\n      <td>The Telegraph - Calcutta : Business   Tighter ...</td>\n      <td>[the, telegraph, -, calcutta, :, business,   ,...</td>\n    </tr>\n    <tr>\n      <th>1</th>\n      <td>1050907_business_story_5207471.utf8</td>\n      <td>The Telegraph - Calcutta : Business   Global S...</td>\n      <td>[the, telegraph, -, calcutta, :, business,   ,...</td>\n    </tr>\n    <tr>\n      <th>2</th>\n      <td>1050811_business_story_5100703.utf8</td>\n      <td>The Telegraph - Calcutta : Business   RBI eagl...</td>\n      <td>[the, telegraph, -, calcutta, :, business,   ,...</td>\n    </tr>\n    <tr>\n      <th>3</th>\n      <td>1050610_business_story_4849980.utf8</td>\n      <td>The Telegraph - Calcutta : Business   Posco de...</td>\n      <td>[the, telegraph, -, calcutta, :, business,   ,...</td>\n    </tr>\n    <tr>\n      <th>4</th>\n      <td>1051226_business_story_5645448.utf8</td>\n      <td>The Telegraph - Calcutta : Business   LOOSE CH...</td>\n      <td>[the, telegraph, -, calcutta, :, business,   ,...</td>\n    </tr>\n    <tr>\n      <th>...</th>\n      <td>...</td>\n      <td>...</td>\n      <td>...</td>\n    </tr>\n    <tr>\n      <th>392534</th>\n      <td>en.3.403.491.2007.11.7</td>\n      <td>SINGAPORE, Nov 7 (bdnews24.com/Reuters) - Oil ...</td>\n      <td>[singapore, ,, nov, 7, (, bdnews24.com/reuter,...</td>\n    </tr>\n    <tr>\n      <th>392535</th>\n      <td>en.3.403.360.2007.11.4</td>\n      <td>CHICAGO, Nov 4 (bdnews24.com/Reuters) - An eff...</td>\n      <td>[chicago, ,, nov, 4, (, bdnews24.com/reuter, )...</td>\n    </tr>\n    <tr>\n      <th>392536</th>\n      <td>en.3.403.430.2007.11.5</td>\n      <td>PARIS, Nov 5 (bdnews24.com/Reuters) - Airbus p...</td>\n      <td>[paris, ,, nov, 5, (, bdnews24.com/reuters, ),...</td>\n    </tr>\n    <tr>\n      <th>392537</th>\n      <td>en.3.403.407.2007.11.6</td>\n      <td>Pabna, Nov 5 (bdnews24.com)  Awami League lead...</td>\n      <td>[pabna, ,, nov, 5, (, bdnews24.com, ),  , awam...</td>\n    </tr>\n    <tr>\n      <th>392538</th>\n      <td>en.3.403.347.2007.11.5</td>\n      <td>BANGKOK, Nov 5 (bdnews24.com/Reuters) - Thaila...</td>\n      <td>[bangkok, ,, nov, 5, (, bdnews24.com/reuters, ...</td>\n    </tr>\n  </tbody>\n</table>\n<p>392539 rows × 3 columns</p>\n</div>"
     },
     "metadata": {},
     "execution_count": 36
    }
   ],
   "source": []
  },
  {
   "cell_type": "code",
   "execution_count": 37,
   "metadata": {},
   "outputs": [],
   "source": [
    "import pickle\n",
    "import compress_pickle"
   ]
  },
  {
   "cell_type": "code",
   "execution_count": 38,
   "metadata": {},
   "outputs": [],
   "source": [
    "pickle.dump(df, open(\"parsed_docs_lemmas.pkl\", \"wb\"))"
   ]
  },
  {
   "cell_type": "code",
   "execution_count": 39,
   "metadata": {},
   "outputs": [],
   "source": [
    "compress_pickle.dump(df, \"parsed_docs_lemmas.pkl.gz\")"
   ]
  },
  {
   "cell_type": "code",
   "execution_count": 41,
   "metadata": {},
   "outputs": [],
   "source": [
    "df2 = compress_pickle.load( \"parsed_docs_lemmas.pkl.gz\")"
   ]
  },
  {
   "cell_type": "code",
   "execution_count": null,
   "metadata": {},
   "outputs": [],
   "source": []
  }
 ]
}