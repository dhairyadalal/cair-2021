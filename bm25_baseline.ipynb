{
 "metadata": {
  "language_info": {
   "codemirror_mode": {
    "name": "ipython",
    "version": 3
   },
   "file_extension": ".py",
   "mimetype": "text/x-python",
   "name": "python",
   "nbconvert_exporter": "python",
   "pygments_lexer": "ipython3",
   "version": "3.7.6"
  },
  "orig_nbformat": 2,
  "kernelspec": {
   "name": "python376jvsc74a57bd0724986c975149866732d61b2ac90a7d138756189efb080eae0ea097c9e5b0cee",
   "display_name": "Python 3.7.6 64-bit ('nlp-env': conda)"
  }
 },
 "nbformat": 4,
 "nbformat_minor": 2,
 "cells": [
  {
   "cell_type": "code",
   "execution_count": 32,
   "metadata": {},
   "outputs": [],
   "source": [
    "import pickle\n",
    "\n",
    "df = pickle.load(open(\"data/parsed_docs_with_toks.pkl\", \"rb\"))"
   ]
  },
  {
   "cell_type": "code",
   "execution_count": 33,
   "metadata": {},
   "outputs": [
    {
     "output_type": "execute_result",
     "data": {
      "text/plain": [
       "                                      docno  \\\n",
       "0       1050324_business_story_4530765.utf8   \n",
       "1       1050907_business_story_5207471.utf8   \n",
       "2       1050811_business_story_5100703.utf8   \n",
       "3       1050610_business_story_4849980.utf8   \n",
       "4       1051226_business_story_5645448.utf8   \n",
       "...                                     ...   \n",
       "392534               en.3.403.491.2007.11.7   \n",
       "392535               en.3.403.360.2007.11.4   \n",
       "392536               en.3.403.430.2007.11.5   \n",
       "392537               en.3.403.407.2007.11.6   \n",
       "392538               en.3.403.347.2007.11.5   \n",
       "\n",
       "                                                     text  \\\n",
       "0       The Telegraph - Calcutta : Business   Tighter ...   \n",
       "1       The Telegraph - Calcutta : Business   Global S...   \n",
       "2       The Telegraph - Calcutta : Business   RBI eagl...   \n",
       "3       The Telegraph - Calcutta : Business   Posco de...   \n",
       "4       The Telegraph - Calcutta : Business   LOOSE CH...   \n",
       "...                                                   ...   \n",
       "392534  SINGAPORE, Nov 7 (bdnews24.com/Reuters) - Oil ...   \n",
       "392535  CHICAGO, Nov 4 (bdnews24.com/Reuters) - An eff...   \n",
       "392536  PARIS, Nov 5 (bdnews24.com/Reuters) - Airbus p...   \n",
       "392537  Pabna, Nov 5 (bdnews24.com)  Awami League lead...   \n",
       "392538  BANGKOK, Nov 5 (bdnews24.com/Reuters) - Thaila...   \n",
       "\n",
       "                                                   tokens  \n",
       "0       [telegraph, calcutta, business, tighter, norms...  \n",
       "1       [telegraph, calcutta, business, global, steel,...  \n",
       "2       [telegraph, calcutta, business, rbi, eagles, o...  \n",
       "3       [telegraph, calcutta, business, posco, deal, m...  \n",
       "4       [telegraph, calcutta, business, loose, change,...  \n",
       "...                                                   ...  \n",
       "392534  [singapore, nov, 7, bdnews24comreuters, oil, p...  \n",
       "392535  [chicago, nov, 4, bdnews24comreuters, effort, ...  \n",
       "392536  [paris, nov, 5, bdnews24comreuters, airbus, pa...  \n",
       "392537  [pabna, nov, 5, bdnews24com, awami, league, le...  \n",
       "392538  [bangkok, nov, 5, bdnews24comreuters, thailand...  \n",
       "\n",
       "[392539 rows x 3 columns]"
      ],
      "text/html": "<div>\n<style scoped>\n    .dataframe tbody tr th:only-of-type {\n        vertical-align: middle;\n    }\n\n    .dataframe tbody tr th {\n        vertical-align: top;\n    }\n\n    .dataframe thead th {\n        text-align: right;\n    }\n</style>\n<table border=\"1\" class=\"dataframe\">\n  <thead>\n    <tr style=\"text-align: right;\">\n      <th></th>\n      <th>docno</th>\n      <th>text</th>\n      <th>tokens</th>\n    </tr>\n  </thead>\n  <tbody>\n    <tr>\n      <th>0</th>\n      <td>1050324_business_story_4530765.utf8</td>\n      <td>The Telegraph - Calcutta : Business   Tighter ...</td>\n      <td>[telegraph, calcutta, business, tighter, norms...</td>\n    </tr>\n    <tr>\n      <th>1</th>\n      <td>1050907_business_story_5207471.utf8</td>\n      <td>The Telegraph - Calcutta : Business   Global S...</td>\n      <td>[telegraph, calcutta, business, global, steel,...</td>\n    </tr>\n    <tr>\n      <th>2</th>\n      <td>1050811_business_story_5100703.utf8</td>\n      <td>The Telegraph - Calcutta : Business   RBI eagl...</td>\n      <td>[telegraph, calcutta, business, rbi, eagles, o...</td>\n    </tr>\n    <tr>\n      <th>3</th>\n      <td>1050610_business_story_4849980.utf8</td>\n      <td>The Telegraph - Calcutta : Business   Posco de...</td>\n      <td>[telegraph, calcutta, business, posco, deal, m...</td>\n    </tr>\n    <tr>\n      <th>4</th>\n      <td>1051226_business_story_5645448.utf8</td>\n      <td>The Telegraph - Calcutta : Business   LOOSE CH...</td>\n      <td>[telegraph, calcutta, business, loose, change,...</td>\n    </tr>\n    <tr>\n      <th>...</th>\n      <td>...</td>\n      <td>...</td>\n      <td>...</td>\n    </tr>\n    <tr>\n      <th>392534</th>\n      <td>en.3.403.491.2007.11.7</td>\n      <td>SINGAPORE, Nov 7 (bdnews24.com/Reuters) - Oil ...</td>\n      <td>[singapore, nov, 7, bdnews24comreuters, oil, p...</td>\n    </tr>\n    <tr>\n      <th>392535</th>\n      <td>en.3.403.360.2007.11.4</td>\n      <td>CHICAGO, Nov 4 (bdnews24.com/Reuters) - An eff...</td>\n      <td>[chicago, nov, 4, bdnews24comreuters, effort, ...</td>\n    </tr>\n    <tr>\n      <th>392536</th>\n      <td>en.3.403.430.2007.11.5</td>\n      <td>PARIS, Nov 5 (bdnews24.com/Reuters) - Airbus p...</td>\n      <td>[paris, nov, 5, bdnews24comreuters, airbus, pa...</td>\n    </tr>\n    <tr>\n      <th>392537</th>\n      <td>en.3.403.407.2007.11.6</td>\n      <td>Pabna, Nov 5 (bdnews24.com)  Awami League lead...</td>\n      <td>[pabna, nov, 5, bdnews24com, awami, league, le...</td>\n    </tr>\n    <tr>\n      <th>392538</th>\n      <td>en.3.403.347.2007.11.5</td>\n      <td>BANGKOK, Nov 5 (bdnews24.com/Reuters) - Thaila...</td>\n      <td>[bangkok, nov, 5, bdnews24comreuters, thailand...</td>\n    </tr>\n  </tbody>\n</table>\n<p>392539 rows × 3 columns</p>\n</div>"
     },
     "metadata": {},
     "execution_count": 33
    }
   ],
   "source": [
    "df"
   ]
  },
  {
   "cell_type": "code",
   "execution_count": 4,
   "metadata": {},
   "outputs": [],
   "source": [
    "from rank_bm25 import BM25Okapi\n",
    "\n",
    "idx = BM25Okapi(df[\"tokens\"].tolist())"
   ]
  },
  {
   "cell_type": "code",
   "execution_count": 5,
   "metadata": {},
   "outputs": [],
   "source": [
    "import pickle \n",
    "\n",
    "pickle.dump(idx, open(\"saved_indices/bm250kapi_idx.pkl\", \"wb\"))\n"
   ]
  },
  {
   "cell_type": "code",
   "execution_count": 6,
   "metadata": {},
   "outputs": [],
   "source": [
    "import spacy \n",
    "from spacy.lang.en.stop_words import STOP_WORDS\n",
    "import re\n",
    "import swifter\n",
    "import pandas as pd  \n",
    "import pickle"
   ]
  },
  {
   "cell_type": "code",
   "execution_count": 28,
   "metadata": {},
   "outputs": [],
   "source": [
    "import torch\n",
    "import numpy as np \n",
    "\n",
    "num_results = 100\n",
    "\n",
    "def get_rank25_results(query: str, idx, num_results:int = 25):\n",
    "    scores = idx.get_scores(query)\n",
    "    sorted_score_idx = np.argsort(scores)[::-1]\n",
    "\n",
    "    results = {}\n",
    "    for i in sorted_score_idx[:num_results]:\n",
    "        docno = df.iloc[i][\"docno\"]\n",
    "        score = scores[i].item()\n",
    "        results[docno] = score\n",
    "    return results    "
   ]
  },
  {
   "cell_type": "code",
   "execution_count": 7,
   "metadata": {},
   "outputs": [],
   "source": [
    "from utils import read_qrel_from_file, evaluate_run"
   ]
  },
  {
   "cell_type": "code",
   "execution_count": 8,
   "metadata": {},
   "outputs": [],
   "source": [
    "qrel = read_qrel_from_file(\"qrels/2020/cair2020_qrel.txt\")"
   ]
  },
  {
   "cell_type": "code",
   "execution_count": 23,
   "metadata": {},
   "outputs": [
    {
     "output_type": "execute_result",
     "data": {
      "text/plain": [
       "   number                                              title  \\\n",
       "0       1                   Assassination of Osama-bin-laden   \n",
       "1       2                                Accused Ajmal Kasab   \n",
       "2       3            Maharashtra CM ashok chavan resignation   \n",
       "3       4                                Accused Sanjay Dutt   \n",
       "4       5                                  Abu Salem accused   \n",
       "5       6        Babri Masjid demolition case against Advani   \n",
       "6       7                        CBI searches Dawood Ibrahim   \n",
       "7       8                  Court blocks facebook in pakistan   \n",
       "8       9                          Jaswant Singh BJP sacking   \n",
       "9      10                      Kasab's nationality confirmed   \n",
       "10     11  Left Front withdraws support from the UPA Gove...   \n",
       "11     12                        Manu Sharma's life sentence   \n",
       "12     13                         Salman Khan sentenced jail   \n",
       "13     14                       Aftab Ansari sentenced death   \n",
       "14     15                   Rajya sabha sacked Jaya Bachchan   \n",
       "15     21                            Praveen Mahajan accused   \n",
       "16     22                        Lalu Prasad Yadav convicted   \n",
       "17     23                                   Mayawati accused   \n",
       "18     24                        Abdul Karim Telgi convicted   \n",
       "19     25           Protest against Narmada dam construction   \n",
       "\n",
       "                                            narrative  \n",
       "0   Relevant document should contain information a...  \n",
       "1   Information on Kasab's confession about 26/11 ...  \n",
       "2   Documents about Ashok Chavan's deliberate endi...  \n",
       "3   Relevant document would highlight that actor S...  \n",
       "4   Relevants documents will contain evidences on ...  \n",
       "5   A relevant document must include information a...  \n",
       "6   A relevant document must provide information r...  \n",
       "7   Relevant documents should contain information ...  \n",
       "8   Relevant documents should contain information ...  \n",
       "9   A relevant document must provide information o...  \n",
       "10  Relevant documents should contain information ...  \n",
       "11  Information related to the murder of the model...  \n",
       "12  Relevant documents will cite the arrest of Sal...  \n",
       "13  Any document that provides information related...  \n",
       "14  Jaya Bachchan has been disqualified from Rajya...  \n",
       "15  Relevant documents must contain information ab...  \n",
       "16  A relevant document should contain information...  \n",
       "17  A relevant document should focus on the invest...  \n",
       "18  Information regarding the arrest and suspensio...  \n",
       "19  Relevant documents must include information ab...  "
      ],
      "text/html": "<div>\n<style scoped>\n    .dataframe tbody tr th:only-of-type {\n        vertical-align: middle;\n    }\n\n    .dataframe tbody tr th {\n        vertical-align: top;\n    }\n\n    .dataframe thead th {\n        text-align: right;\n    }\n</style>\n<table border=\"1\" class=\"dataframe\">\n  <thead>\n    <tr style=\"text-align: right;\">\n      <th></th>\n      <th>number</th>\n      <th>title</th>\n      <th>narrative</th>\n    </tr>\n  </thead>\n  <tbody>\n    <tr>\n      <th>0</th>\n      <td>1</td>\n      <td>Assassination of Osama-bin-laden</td>\n      <td>Relevant document should contain information a...</td>\n    </tr>\n    <tr>\n      <th>1</th>\n      <td>2</td>\n      <td>Accused Ajmal Kasab</td>\n      <td>Information on Kasab's confession about 26/11 ...</td>\n    </tr>\n    <tr>\n      <th>2</th>\n      <td>3</td>\n      <td>Maharashtra CM ashok chavan resignation</td>\n      <td>Documents about Ashok Chavan's deliberate endi...</td>\n    </tr>\n    <tr>\n      <th>3</th>\n      <td>4</td>\n      <td>Accused Sanjay Dutt</td>\n      <td>Relevant document would highlight that actor S...</td>\n    </tr>\n    <tr>\n      <th>4</th>\n      <td>5</td>\n      <td>Abu Salem accused</td>\n      <td>Relevants documents will contain evidences on ...</td>\n    </tr>\n    <tr>\n      <th>5</th>\n      <td>6</td>\n      <td>Babri Masjid demolition case against Advani</td>\n      <td>A relevant document must include information a...</td>\n    </tr>\n    <tr>\n      <th>6</th>\n      <td>7</td>\n      <td>CBI searches Dawood Ibrahim</td>\n      <td>A relevant document must provide information r...</td>\n    </tr>\n    <tr>\n      <th>7</th>\n      <td>8</td>\n      <td>Court blocks facebook in pakistan</td>\n      <td>Relevant documents should contain information ...</td>\n    </tr>\n    <tr>\n      <th>8</th>\n      <td>9</td>\n      <td>Jaswant Singh BJP sacking</td>\n      <td>Relevant documents should contain information ...</td>\n    </tr>\n    <tr>\n      <th>9</th>\n      <td>10</td>\n      <td>Kasab's nationality confirmed</td>\n      <td>A relevant document must provide information o...</td>\n    </tr>\n    <tr>\n      <th>10</th>\n      <td>11</td>\n      <td>Left Front withdraws support from the UPA Gove...</td>\n      <td>Relevant documents should contain information ...</td>\n    </tr>\n    <tr>\n      <th>11</th>\n      <td>12</td>\n      <td>Manu Sharma's life sentence</td>\n      <td>Information related to the murder of the model...</td>\n    </tr>\n    <tr>\n      <th>12</th>\n      <td>13</td>\n      <td>Salman Khan sentenced jail</td>\n      <td>Relevant documents will cite the arrest of Sal...</td>\n    </tr>\n    <tr>\n      <th>13</th>\n      <td>14</td>\n      <td>Aftab Ansari sentenced death</td>\n      <td>Any document that provides information related...</td>\n    </tr>\n    <tr>\n      <th>14</th>\n      <td>15</td>\n      <td>Rajya sabha sacked Jaya Bachchan</td>\n      <td>Jaya Bachchan has been disqualified from Rajya...</td>\n    </tr>\n    <tr>\n      <th>15</th>\n      <td>21</td>\n      <td>Praveen Mahajan accused</td>\n      <td>Relevant documents must contain information ab...</td>\n    </tr>\n    <tr>\n      <th>16</th>\n      <td>22</td>\n      <td>Lalu Prasad Yadav convicted</td>\n      <td>A relevant document should contain information...</td>\n    </tr>\n    <tr>\n      <th>17</th>\n      <td>23</td>\n      <td>Mayawati accused</td>\n      <td>A relevant document should focus on the invest...</td>\n    </tr>\n    <tr>\n      <th>18</th>\n      <td>24</td>\n      <td>Abdul Karim Telgi convicted</td>\n      <td>Information regarding the arrest and suspensio...</td>\n    </tr>\n    <tr>\n      <th>19</th>\n      <td>25</td>\n      <td>Protest against Narmada dam construction</td>\n      <td>Relevant documents must include information ab...</td>\n    </tr>\n  </tbody>\n</table>\n</div>"
     },
     "metadata": {},
     "execution_count": 23
    }
   ],
   "source": [
    "from bs4 import BeautifulSoup\n",
    "\n",
    "fp = open(\"qrels/2020/topics_test.txt\")\n",
    "soup = BeautifulSoup(fp, 'xml')\n",
    "soup.find_all(\"top\")\n",
    "\n",
    "extracted_topics = []\n",
    "for topic in soup.find_all(\"top\"):\n",
    "    number = str(topic.num.text)\n",
    "    title = topic.title.text.strip()\n",
    "    narr = topic.narr.text.strip()\n",
    "    extracted_topics.append({\"number\": number, \"title\": title, \"narrative\": narr})\n",
    "\n",
    "df = pd.DataFrame(extracted_topics)\n",
    "df"
   ]
  },
  {
   "cell_type": "code",
   "execution_count": 25,
   "metadata": {},
   "outputs": [
    {
     "output_type": "execute_result",
     "data": {
      "text/plain": [
       "   number                                              title  \\\n",
       "0       1                   Assassination of Osama-bin-laden   \n",
       "1       2                                Accused Ajmal Kasab   \n",
       "2       3            Maharashtra CM ashok chavan resignation   \n",
       "3       4                                Accused Sanjay Dutt   \n",
       "4       5                                  Abu Salem accused   \n",
       "5       6        Babri Masjid demolition case against Advani   \n",
       "6       7                        CBI searches Dawood Ibrahim   \n",
       "7       8                  Court blocks facebook in pakistan   \n",
       "8       9                          Jaswant Singh BJP sacking   \n",
       "9      10                      Kasab's nationality confirmed   \n",
       "10     11  Left Front withdraws support from the UPA Gove...   \n",
       "11     12                        Manu Sharma's life sentence   \n",
       "12     13                         Salman Khan sentenced jail   \n",
       "13     14                       Aftab Ansari sentenced death   \n",
       "14     15                   Rajya sabha sacked Jaya Bachchan   \n",
       "15     21                            Praveen Mahajan accused   \n",
       "16     22                        Lalu Prasad Yadav convicted   \n",
       "17     23                                   Mayawati accused   \n",
       "18     24                        Abdul Karim Telgi convicted   \n",
       "19     25           Protest against Narmada dam construction   \n",
       "\n",
       "                                            narrative  \n",
       "0   Relevant document should contain information a...  \n",
       "1   Information on Kasab's confession about 26/11 ...  \n",
       "2   Documents about Ashok Chavan's deliberate endi...  \n",
       "3   Relevant document would highlight that actor S...  \n",
       "4   Relevants documents will contain evidences on ...  \n",
       "5   A relevant document must include information a...  \n",
       "6   A relevant document must provide information r...  \n",
       "7   Relevant documents should contain information ...  \n",
       "8   Relevant documents should contain information ...  \n",
       "9   A relevant document must provide information o...  \n",
       "10  Relevant documents should contain information ...  \n",
       "11  Information related to the murder of the model...  \n",
       "12  Relevant documents will cite the arrest of Sal...  \n",
       "13  Any document that provides information related...  \n",
       "14  Jaya Bachchan has been disqualified from Rajya...  \n",
       "15  Relevant documents must contain information ab...  \n",
       "16  A relevant document should contain information...  \n",
       "17  A relevant document should focus on the invest...  \n",
       "18  Information regarding the arrest and suspensio...  \n",
       "19  Relevant documents must include information ab...  "
      ],
      "text/html": "<div>\n<style scoped>\n    .dataframe tbody tr th:only-of-type {\n        vertical-align: middle;\n    }\n\n    .dataframe tbody tr th {\n        vertical-align: top;\n    }\n\n    .dataframe thead th {\n        text-align: right;\n    }\n</style>\n<table border=\"1\" class=\"dataframe\">\n  <thead>\n    <tr style=\"text-align: right;\">\n      <th></th>\n      <th>number</th>\n      <th>title</th>\n      <th>narrative</th>\n    </tr>\n  </thead>\n  <tbody>\n    <tr>\n      <th>0</th>\n      <td>1</td>\n      <td>Assassination of Osama-bin-laden</td>\n      <td>Relevant document should contain information a...</td>\n    </tr>\n    <tr>\n      <th>1</th>\n      <td>2</td>\n      <td>Accused Ajmal Kasab</td>\n      <td>Information on Kasab's confession about 26/11 ...</td>\n    </tr>\n    <tr>\n      <th>2</th>\n      <td>3</td>\n      <td>Maharashtra CM ashok chavan resignation</td>\n      <td>Documents about Ashok Chavan's deliberate endi...</td>\n    </tr>\n    <tr>\n      <th>3</th>\n      <td>4</td>\n      <td>Accused Sanjay Dutt</td>\n      <td>Relevant document would highlight that actor S...</td>\n    </tr>\n    <tr>\n      <th>4</th>\n      <td>5</td>\n      <td>Abu Salem accused</td>\n      <td>Relevants documents will contain evidences on ...</td>\n    </tr>\n    <tr>\n      <th>5</th>\n      <td>6</td>\n      <td>Babri Masjid demolition case against Advani</td>\n      <td>A relevant document must include information a...</td>\n    </tr>\n    <tr>\n      <th>6</th>\n      <td>7</td>\n      <td>CBI searches Dawood Ibrahim</td>\n      <td>A relevant document must provide information r...</td>\n    </tr>\n    <tr>\n      <th>7</th>\n      <td>8</td>\n      <td>Court blocks facebook in pakistan</td>\n      <td>Relevant documents should contain information ...</td>\n    </tr>\n    <tr>\n      <th>8</th>\n      <td>9</td>\n      <td>Jaswant Singh BJP sacking</td>\n      <td>Relevant documents should contain information ...</td>\n    </tr>\n    <tr>\n      <th>9</th>\n      <td>10</td>\n      <td>Kasab's nationality confirmed</td>\n      <td>A relevant document must provide information o...</td>\n    </tr>\n    <tr>\n      <th>10</th>\n      <td>11</td>\n      <td>Left Front withdraws support from the UPA Gove...</td>\n      <td>Relevant documents should contain information ...</td>\n    </tr>\n    <tr>\n      <th>11</th>\n      <td>12</td>\n      <td>Manu Sharma's life sentence</td>\n      <td>Information related to the murder of the model...</td>\n    </tr>\n    <tr>\n      <th>12</th>\n      <td>13</td>\n      <td>Salman Khan sentenced jail</td>\n      <td>Relevant documents will cite the arrest of Sal...</td>\n    </tr>\n    <tr>\n      <th>13</th>\n      <td>14</td>\n      <td>Aftab Ansari sentenced death</td>\n      <td>Any document that provides information related...</td>\n    </tr>\n    <tr>\n      <th>14</th>\n      <td>15</td>\n      <td>Rajya sabha sacked Jaya Bachchan</td>\n      <td>Jaya Bachchan has been disqualified from Rajya...</td>\n    </tr>\n    <tr>\n      <th>15</th>\n      <td>21</td>\n      <td>Praveen Mahajan accused</td>\n      <td>Relevant documents must contain information ab...</td>\n    </tr>\n    <tr>\n      <th>16</th>\n      <td>22</td>\n      <td>Lalu Prasad Yadav convicted</td>\n      <td>A relevant document should contain information...</td>\n    </tr>\n    <tr>\n      <th>17</th>\n      <td>23</td>\n      <td>Mayawati accused</td>\n      <td>A relevant document should focus on the invest...</td>\n    </tr>\n    <tr>\n      <th>18</th>\n      <td>24</td>\n      <td>Abdul Karim Telgi convicted</td>\n      <td>Information regarding the arrest and suspensio...</td>\n    </tr>\n    <tr>\n      <th>19</th>\n      <td>25</td>\n      <td>Protest against Narmada dam construction</td>\n      <td>Relevant documents must include information ab...</td>\n    </tr>\n  </tbody>\n</table>\n</div>"
     },
     "metadata": {},
     "execution_count": 25
    }
   ],
   "source": [
    "def extract_topics_from_file(file: str) -> dict:\n",
    "    soup = BeautifulSoup(open(file, \"r\"), 'xml')\n",
    "\n",
    "    extracted_topics = []\n",
    "    for topic in soup.find_all(\"top\"):\n",
    "        number = str(topic.num.text)\n",
    "        title = topic.title.text.strip()\n",
    "        narr = topic.narr.text.strip()\n",
    "        extracted_topics.append({\"number\": number, \"title\": title, \"narrative\": narr})\n",
    "    \n",
    "    \n",
    "    return pd.DataFrame(extracted_topics)\n",
    "\n",
    "topics = extract_topics_from_file(\"qrels/2020/topics_test.txt\")\n",
    "\n",
    "topics"
   ]
  },
  {
   "cell_type": "code",
   "execution_count": 29,
   "metadata": {},
   "outputs": [
    {
     "output_type": "error",
     "ename": "NameError",
     "evalue": "name 'run' is not defined",
     "traceback": [
      "\u001b[0;31m---------------------------------------------------------------------------\u001b[0m",
      "\u001b[0;31mNameError\u001b[0m                                 Traceback (most recent call last)",
      "\u001b[0;32m<ipython-input-29-e768eeeff1a7>\u001b[0m in \u001b[0;36m<module>\u001b[0;34m\u001b[0m\n\u001b[1;32m      3\u001b[0m \u001b[0;34m\u001b[0m\u001b[0m\n\u001b[1;32m      4\u001b[0m \u001b[0mevaluator\u001b[0m \u001b[0;34m=\u001b[0m \u001b[0mpytrec_eval\u001b[0m\u001b[0;34m.\u001b[0m\u001b[0mRelevanceEvaluator\u001b[0m\u001b[0;34m(\u001b[0m\u001b[0mqrel\u001b[0m\u001b[0;34m,\u001b[0m \u001b[0mmetrics\u001b[0m\u001b[0;34m)\u001b[0m\u001b[0;34m\u001b[0m\u001b[0;34m\u001b[0m\u001b[0m\n\u001b[0;32m----> 5\u001b[0;31m \u001b[0mevaluator\u001b[0m\u001b[0;34m.\u001b[0m\u001b[0mevaluate\u001b[0m\u001b[0;34m(\u001b[0m\u001b[0mrun\u001b[0m\u001b[0;34m)\u001b[0m\u001b[0;34m\u001b[0m\u001b[0;34m\u001b[0m\u001b[0m\n\u001b[0m",
      "\u001b[0;31mNameError\u001b[0m: name 'run' is not defined"
     ]
    }
   ],
   "source": [
    "import pytrec_eval\n",
    "metrics: set = {'map', 'ndcg', 'recall'}\n",
    "\n",
    "evaluator = pytrec_eval.RelevanceEvaluator(qrel, metrics)\n",
    "evaluator.evaluate(run)\n"
   ]
  },
  {
   "cell_type": "code",
   "execution_count": 26,
   "metadata": {},
   "outputs": [],
   "source": [
    "import spacy\n",
    "\n",
    "nlp = spacy.load(\"en_core_web_sm\", disable=[\"tok2vec\", \"ner\"])\n",
    "\n",
    "def preprocess_query(text):\n",
    "    clean_text = re.sub(r'[^\\w\\s]', '', text.lower())\n",
    "    \n",
    "    toks = []\n",
    "    for tok in nlp(clean_text):\n",
    "        if tok.text not in STOP_WORDS and tok.text.strip() != \"\":\n",
    "            toks.append(tok.lemma_)\n",
    "    return toks\n"
   ]
  },
  {
   "cell_type": "code",
   "execution_count": 34,
   "metadata": {},
   "outputs": [
    {
     "output_type": "display_data",
     "data": {
      "text/plain": "HBox(children=(FloatProgress(value=0.0, max=20.0), HTML(value='')))",
      "application/vnd.jupyter.widget-view+json": {
       "version_major": 2,
       "version_minor": 0,
       "model_id": "6461017e1fb84a1dbfab8df2bbe98527"
      }
     },
     "metadata": {}
    },
    {
     "output_type": "stream",
     "name": "stdout",
     "text": [
      "\nfinished\n"
     ]
    }
   ],
   "source": [
    "import tqdm.notebook as tqdm\n",
    "import numpy as np\n",
    "title_run = {}\n",
    "narr_run = {}\n",
    "\n",
    "for topic in tqdm.tqdm(extracted_topics):\n",
    "    title_toks = preprocess_query(topic[\"title\"])\n",
    "    narr_toks = preprocess_query(topic[\"narrative\"])\n",
    "\n",
    "    title_results = get_rank25_results(title_toks, idx, 50)\n",
    "    narr_results = get_rank25_results(narr_toks, idx, 50)\n",
    "    \n",
    "    title_run[topic[\"number\"]] = title_results\n",
    "    narr_run[topic[\"number\"]] = narr_results\n",
    "print(\"finished\")"
   ]
  },
  {
   "cell_type": "code",
   "execution_count": 35,
   "metadata": {},
   "outputs": [
    {
     "output_type": "display_data",
     "data": {
      "text/plain": "{'1': {'map': 0.0, 'P_5': 0.0, 'ndcg': 0.0},\n '2': {'map': 0.056925343751603366, 'P_5': 0.4, 'ndcg': 0.21217850514857134},\n '3': {'map': 0.22794518761345814, 'P_5': 0.2, 'ndcg': 0.5222640046935143},\n '4': {'map': 0.20934800847205273, 'P_5': 0.4, 'ndcg': 0.4284309176998409},\n '5': {'map': 0.40266188901243055, 'P_5': 0.8, 'ndcg': 0.5785227009091111},\n '6': {'map': 0.19304223216365549, 'P_5': 0.4, 'ndcg': 0.4385255861592022},\n '7': {'map': 0.2886084338895777, 'P_5': 0.8, 'ndcg': 0.5275960595929252},\n '8': {'map': 0.6363636363636364, 'P_5': 1.0, 'ndcg': 0.8133975486119581},\n '9': {'map': 0.16931596118777784, 'P_5': 0.6, 'ndcg': 0.37475773324028167},\n '10': {'map': 0.1559469696969697, 'P_5': 0.4, 'ndcg': 0.3779016492452397},\n '11': {'map': 0.11291291023013414, 'P_5': 0.4, 'ndcg': 0.2719987846025049},\n '12': {'map': 0.19806517661348838, 'P_5': 0.4, 'ndcg': 0.4530618556493753},\n '13': {'map': 0.3148126258703182, 'P_5': 1.0, 'ndcg': 0.5245829186167061},\n '14': {'map': 0.6165193866105699, 'P_5': 1.0, 'ndcg': 0.7727190825256249},\n '15': {'map': 0.29015687238791643, 'P_5': 0.4, 'ndcg': 0.5114363411892954},\n '21': {'map': 0.6021780923445083, 'P_5': 0.8, 'ndcg': 0.7661864146901788},\n '22': {'map': 0.013134057971014492, 'P_5': 0.2, 'ndcg': 0.08794511721707597},\n '23': {'map': 0.009136264747719855, 'P_5': 0.0, 'ndcg': 0.0679986996993346},\n '24': {'map': 0.37863270195609383, 'P_5': 0.8, 'ndcg': 0.5717389710993441},\n '25': {'map': 0.4209770804533815, 'P_5': 0.8, 'ndcg': 0.6478232734281401}}"
     },
     "metadata": {}
    },
    {
     "output_type": "stream",
     "name": "stdout",
     "text": [
      "Aggregate results\nAverage MAP:  0.2648341415668153\nAverage P_5:  0.54\n"
     ]
    }
   ],
   "source": [
    "import pytrec_eval\n",
    "import numpy as np \n",
    "import json \n",
    "\n",
    "metrics: set = {'map', 'ndcg', 'P_5'}\n",
    "\n",
    "evaluator = pytrec_eval.RelevanceEvaluator(qrel, metrics)\n",
    "run_results = evaluator.evaluate(title_run)\n",
    "\n",
    "map_scores = [v[\"map\"] for k,v in run_results.items()]\n",
    "p_scores  = [v[\"P_5\"] for k,v in run_results.items()]\n",
    "\n",
    "display(run_results)\n",
    "\n",
    "print(\"Aggregate results\")\n",
    "print(\"Average MAP: \", np.mean(map_scores))\n",
    "print(\"Average P_5: \", np.mean(p_scores))\n"
   ]
  },
  {
   "cell_type": "code",
   "execution_count": 113,
   "metadata": {},
   "outputs": [
    {
     "output_type": "display_data",
     "data": {
      "text/plain": "{'1': {'map': 0.0857992729838509, 'P_5': 0.4, 'ndcg': 0.24541403340349474},\n '2': {'map': 0.09291773146996271, 'P_5': 0.4, 'ndcg': 0.26489068160802665},\n '3': {'map': 0.21966240903604048, 'P_5': 0.2, 'ndcg': 0.5163460600226231},\n '4': {'map': 0.06638540431013955, 'P_5': 0.4, 'ndcg': 0.24807734635625595},\n '5': {'map': 0.4161339977285736, 'P_5': 1.0, 'ndcg': 0.5852790666091732},\n '6': {'map': 0.20315442597801556, 'P_5': 0.2, 'ndcg': 0.451153225278768},\n '7': {'map': 0.2505158547737754, 'P_5': 0.8, 'ndcg': 0.5015713626019195},\n '8': {'map': 0.45906334656334646, 'P_5': 0.4, 'ndcg': 0.7473829770969648},\n '9': {'map': 0.18853064242175385, 'P_5': 0.2, 'ndcg': 0.4168872426997385},\n '10': {'map': 0.08608322197031876, 'P_5': 0.4, 'ndcg': 0.2740905118763117},\n '11': {'map': 0.07576138370159298, 'P_5': 0.4, 'ndcg': 0.24505669724589946},\n '12': {'map': 0.40259024538508315, 'P_5': 0.6, 'ndcg': 0.6454313209816381},\n '13': {'map': 0.2676652326251622, 'P_5': 0.4, 'ndcg': 0.48800951596961595},\n '14': {'map': 0.5804208562048203, 'P_5': 1.0, 'ndcg': 0.7492456012511609},\n '15': {'map': 0.2917113844296141, 'P_5': 0.6, 'ndcg': 0.516096416876851},\n '21': {'map': 0.6081844112081541, 'P_5': 1.0, 'ndcg': 0.7743670291855008},\n '22': {'map': 0.012499999999999999, 'P_5': 0.2, 'ndcg': 0.086513904612645},\n '23': {'map': 0.00858819345661451, 'P_5': 0.0, 'ndcg': 0.0668452944447771},\n '24': {'map': 0.42079944496721783, 'P_5': 1.0, 'ndcg': 0.6067093337946636},\n '25': {'map': 0.38680564615210666, 'P_5': 0.4, 'ndcg': 0.6364068766273347}}"
     },
     "metadata": {}
    },
    {
     "output_type": "stream",
     "name": "stdout",
     "text": [
      "Aggregate results\nAverage MAP:  0.2561636552683072\nAverage P_5:  0.4999999999999999\n"
     ]
    }
   ],
   "source": [
    "import pytrec_eval\n",
    "import numpy as np \n",
    "import json \n",
    "\n",
    "metrics: set = {'map', 'ndcg', 'P_5'}\n",
    "\n",
    "evaluator = pytrec_eval.RelevanceEvaluator(qrel, metrics)\n",
    "run_results = evaluator.evaluate(title_run)\n",
    "\n",
    "map_scores = [v[\"map\"] for k,v in run_results.items()]\n",
    "p_scores  = [v[\"P_5\"] for k,v in run_results.items()]\n",
    "\n",
    "display(run_results)\n",
    "\n",
    "print(\"Aggregate results\")\n",
    "print(\"Average MAP: \", np.mean(map_scores))\n",
    "print(\"Average P_5: \", np.mean(p_scores))\n",
    "\n",
    "# with open(\"results/bm250kap-baseline/title-results.txt\", \"w\") as f:\n",
    "#     f.write(f\"Average MAP: {np.mean(map_scores)}\\n\")\n",
    "#     f.write(f\"Average P_5: {np.mean(p_scores)}\\n\")\n",
    "#     f.write(f\"Individual run results: \\n\")\n",
    "#     f.write(json.dumps(run_results, indent=4))\n",
    "\n",
    "# with open(\"results/bm250kap-baseline/title-run.txt\", \"w\") as f:\n",
    "#     f.write(json.dumps(title_run, indent=4))"
   ]
  },
  {
   "cell_type": "code",
   "execution_count": 36,
   "metadata": {},
   "outputs": [
    {
     "output_type": "display_data",
     "data": {
      "text/plain": "{'1': {'map': 0.04402549433441882, 'P_5': 0.4, 'ndcg': 0.17227327297591483},\n '2': {'map': 0.1868069134882157, 'P_5': 0.6, 'ndcg': 0.3866051581702334},\n '3': {'map': 0.7272447414197384, 'P_5': 1.0, 'ndcg': 0.9088433466673372},\n '4': {'map': 0.31381425763566484, 'P_5': 1.0, 'ndcg': 0.5202545637719598},\n '5': {'map': 0.28162893887628765, 'P_5': 1.0, 'ndcg': 0.46215507858247157},\n '6': {'map': 0.24250418514395317, 'P_5': 0.6, 'ndcg': 0.5136410432069678},\n '7': {'map': 0.268405442651054, 'P_5': 0.8, 'ndcg': 0.49828958478148627},\n '8': {'map': 0.0047619047619047615, 'P_5': 0.0, 'ndcg': 0.04935421935348238},\n '9': {'map': 0.4642077787980886, 'P_5': 0.4, 'ndcg': 0.6835174615774817},\n '10': {'map': 0.44197706381403146, 'P_5': 1.0, 'ndcg': 0.6589136441994532},\n '11': {'map': 0.07705919166748026, 'P_5': 0.6, 'ndcg': 0.24716036726857735},\n '12': {'map': 0.3827854210316024, 'P_5': 0.4, 'ndcg': 0.6323273456684958},\n '13': {'map': 0.27428235399992373, 'P_5': 0.2, 'ndcg': 0.4639665499009099},\n '14': {'map': 0.21772329374160035, 'P_5': 0.6, 'ndcg': 0.4426742619474174},\n '15': {'map': 0.7796549111706913, 'P_5': 1.0, 'ndcg': 0.8761344676851893},\n '21': {'map': 0.6478033262531098, 'P_5': 1.0, 'ndcg': 0.7919391675033607},\n '22': {'map': 0.011147660818713451, 'P_5': 0.0, 'ndcg': 0.07954840547373838},\n '23': {'map': 0.5604698178875207, 'P_5': 0.6, 'ndcg': 0.7539903853555809},\n '24': {'map': 0.3417927887582703, 'P_5': 0.8, 'ndcg': 0.55206605459192},\n '25': {'map': 0.22978773700275348, 'P_5': 0.4, 'ndcg': 0.4908327783047249}}"
     },
     "metadata": {}
    },
    {
     "output_type": "stream",
     "name": "stdout",
     "text": [
      "Aggregate results\nAverage MAP:  0.32489416116275116\nAverage P_5:  0.62\n"
     ]
    }
   ],
   "source": [
    "run_results = evaluator.evaluate(narr_run)\n",
    "\n",
    "map_scores = [v[\"map\"] for k,v in run_results.items()]\n",
    "p_scores  = [v[\"P_5\"] for k,v in run_results.items()]\n",
    "\n",
    "display(run_results)\n",
    "\n",
    "print(\"Aggregate results\")\n",
    "print(\"Average MAP: \", np.mean(map_scores))\n",
    "print(\"Average P_5: \", np.mean(p_scores))"
   ]
  },
  {
   "cell_type": "code",
   "execution_count": 114,
   "metadata": {},
   "outputs": [
    {
     "output_type": "display_data",
     "data": {
      "text/plain": "{'1': {'map': 0.24554547962813247, 'P_5': 1.0, 'ndcg': 0.43195244767143376},\n '2': {'map': 0.09316836010136732, 'P_5': 0.2, 'ndcg': 0.26286249092777214},\n '3': {'map': 0.6781836591938896, 'P_5': 1.0, 'ndcg': 0.8419504708828816},\n '4': {'map': 0.20881728355238408, 'P_5': 0.6, 'ndcg': 0.39788740206231976},\n '5': {'map': 0.30906608872874, 'P_5': 1.0, 'ndcg': 0.49363714531501374},\n '6': {'map': 0.21590003848037764, 'P_5': 0.8, 'ndcg': 0.46805865253277174},\n '7': {'map': 0.22486683527503215, 'P_5': 0.8, 'ndcg': 0.4615856394639282},\n '8': {'map': 0.025, 'P_5': 0.2, 'ndcg': 0.09478836436955078},\n '9': {'map': 0.49343012855076335, 'P_5': 0.6, 'ndcg': 0.7221873256895347},\n '10': {'map': 0.46085418124891814, 'P_5': 1.0, 'ndcg': 0.6665286161517171},\n '11': {'map': 0.03805272719690148, 'P_5': 0.0, 'ndcg': 0.15358268625049804},\n '12': {'map': 0.48891263513879235, 'P_5': 0.8, 'ndcg': 0.7262392552464187},\n '13': {'map': 0.24857027763549955, 'P_5': 0.4, 'ndcg': 0.45001064894167886},\n '14': {'map': 0.20925381475531796, 'P_5': 0.6, 'ndcg': 0.4163887882573837},\n '15': {'map': 0.6719883240989313, 'P_5': 1.0, 'ndcg': 0.8225237165722794},\n '21': {'map': 0.7356979341497722, 'P_5': 1.0, 'ndcg': 0.8252840392744833},\n '22': {'map': 0.023163527037255067, 'P_5': 0.2, 'ndcg': 0.12668417677174526},\n '23': {'map': 0.5629587871434385, 'P_5': 0.6, 'ndcg': 0.7498254302903895},\n '24': {'map': 0.3369402500789714, 'P_5': 0.8, 'ndcg': 0.5477696104061823},\n '25': {'map': 0.30034452779794396, 'P_5': 0.2, 'ndcg': 0.5037212547207174}}"
     },
     "metadata": {}
    },
    {
     "output_type": "stream",
     "name": "stdout",
     "text": [
      "Aggregate results\nAverage MAP:  0.3285357429896214\nAverage P_5:  0.6399999999999999\n"
     ]
    }
   ],
   "source": [
    "run_results = evaluator.evaluate(narr_run)\n",
    "\n",
    "map_scores = [v[\"map\"] for k,v in run_results.items()]\n",
    "p_scores  = [v[\"P_5\"] for k,v in run_results.items()]\n",
    "\n",
    "display(run_results)\n",
    "\n",
    "print(\"Aggregate results\")\n",
    "print(\"Average MAP: \", np.mean(map_scores))\n",
    "print(\"Average P_5: \", np.mean(p_scores))\n",
    "\n",
    "with open(\"results/bm250kap-baseline/narrative-results.txt\", \"w\") as f:\n",
    "    f.write(f\"Average MAP: {np.mean(map_scores)}\\n\")\n",
    "    f.write(f\"Average P_5: {np.mean(p_scores)}\\n\")\n",
    "    f.write(f\"Individual run results: \\n\")\n",
    "    f.write(json.dumps(run_results, indent=4))\n",
    "\n",
    "with open(\"results/bm250kap-baseline/narrative-run.txt\", \"w\") as f:\n",
    "    f.write(json.dumps(title_run, indent=4))"
   ]
  }
 ]
}