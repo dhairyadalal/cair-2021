{
 "metadata": {
  "language_info": {
   "codemirror_mode": {
    "name": "ipython",
    "version": 3
   },
   "file_extension": ".py",
   "mimetype": "text/x-python",
   "name": "python",
   "nbconvert_exporter": "python",
   "pygments_lexer": "ipython3",
   "version": "3.7.6"
  },
  "orig_nbformat": 2,
  "kernelspec": {
   "name": "python376jvsc74a57bd0724986c975149866732d61b2ac90a7d138756189efb080eae0ea097c9e5b0cee",
   "display_name": "Python 3.7.6 64-bit ('nlp-env': conda)"
  }
 },
 "nbformat": 4,
 "nbformat_minor": 2,
 "cells": [
  {
   "cell_type": "code",
   "execution_count": 1,
   "metadata": {},
   "outputs": [
    {
     "output_type": "stream",
     "name": "stdout",
     "text": [
      "loaded\n"
     ]
    }
   ],
   "source": [
    "from utils import DocumentDB\n",
    "db = DocumentDB()\n",
    "print(\"loaded\")"
   ]
  },
  {
   "cell_type": "code",
   "execution_count": 2,
   "metadata": {},
   "outputs": [
    {
     "output_type": "stream",
     "name": "stdout",
     "text": [
      "loaded\n"
     ]
    }
   ],
   "source": [
    "from src import SemanticIndex, BM25Index\n",
    "\n",
    "semantic_idx = SemanticIndex()\n",
    "bm25_idx = BM25Index()\n",
    "\n",
    "print(\"loaded\")"
   ]
  },
  {
   "cell_type": "code",
   "execution_count": 6,
   "metadata": {},
   "outputs": [],
   "source": [
    "import pytrec_eval\n",
    "from utils import read_qrel_from_file, evaluate_run, extract_topics_from_file\n",
    "topics = extract_topics_from_file(\"qrels/2020/topics_test.txt\")\n",
    "qrel = read_qrel_from_file(\"qrels/2020/cair2020_qrel.txt\")\n",
    "\n",
    "metrics: set = {'map', 'ndcg', 'P_5'}\n",
    "evaluator = pytrec_eval.RelevanceEvaluator(qrel, metrics)\n",
    "\n",
    "import numpy as np\n",
    "\n",
    "def print_cum_stats(run):\n",
    "    run_results = evaluator.evaluate(run)\n",
    "\n",
    "    map_scores = [v[\"map\"] for k,v in run_results.items()]\n",
    "    p_scores  = [v[\"P_5\"] for k,v in run_results.items()]\n",
    "    ndcg_scores = [v['ndcg'] for k,v in run_results.items()]\n",
    "\n",
    "    print(\"Aggregate results\")\n",
    "    print(\"Average MAP: \", np.mean(map_scores))\n",
    "    print(\"Average P_5: \", np.mean(p_scores))\n",
    "    print(\"Average NDCG: \", np.mean(ndcg_scores))\n"
   ]
  },
  {
   "source": [
    "# Simple Re-Reranking: Combined count scores per input\n",
    "Method: \n",
    "\n",
    "1. Treat title and narrative seperate \n",
    "2. Per input get results from semantic and bm25 index\n",
    "3. Score is combined count\n"
   ],
   "cell_type": "markdown",
   "metadata": {}
  },
  {
   "cell_type": "code",
   "execution_count": 8,
   "metadata": {},
   "outputs": [
    {
     "output_type": "display_data",
     "data": {
      "text/plain": "HBox(children=(FloatProgress(value=0.0, max=20.0), HTML(value='')))",
      "application/vnd.jupyter.widget-view+json": {
       "version_major": 2,
       "version_minor": 0,
       "model_id": "204a87262f4948e3a68ff809f91c8281"
      }
     },
     "metadata": {}
    },
    {
     "output_type": "stream",
     "name": "stdout",
     "text": [
      "\n"
     ]
    }
   ],
   "source": [
    "from collections import Counter\n",
    "from tqdm.notebook import tqdm\n",
    "title_run = {}\n",
    "narrative_run = {}\n",
    "\n",
    "\n",
    "for topic in tqdm(topics, total = len(topics)):\n",
    "\n",
    "    # Title results \n",
    "    title = topic[\"title\"].strip()\n",
    "    sti, sts = semantic_idx.query(title, num_results=30)\n",
    "    stid = db.batch_idx_lookup(sti)\n",
    "\n",
    "    bti, bts = bm25_idx.query(title, num_results=30)\n",
    "    btid = db.batch_idx_lookup(bti)\n",
    "\n",
    "    tctr = Counter(stid+btid)\n",
    "    title_run[topic[\"number\"]] = dict(tctr.most_common(30))\n",
    "    \n",
    "    # Narrative results \n",
    "    narrative = topic[\"narrative\"].strip()\n",
    "    sni, sns = semantic_idx.query(narrative, num_results=30)\n",
    "    snid = db.batch_idx_lookup(sni)\n",
    "    \n",
    "    bni, bns = bm25_idx.query(narrative, num_results=30)\n",
    "    bnid = db.batch_idx_lookup(bni)\n",
    "    \n",
    "    nctr = Counter(snid+bnid)\n",
    "    narrative_run[topic[\"number\"]] = dict(nctr.most_common(30))"
   ]
  },
  {
   "cell_type": "code",
   "execution_count": 9,
   "metadata": {},
   "outputs": [
    {
     "output_type": "stream",
     "name": "stdout",
     "text": [
      "scores for 50 results\nTitle scores\nAggregate results\nAverage MAP:  0.18495029357134296\nAverage P_5:  0.55\nAverage NDCG:  0.32942406287082926\n\nNarrative scores\nAggregate results\nAverage MAP:  0.2168356381672904\nAverage P_5:  0.6000000000000001\nAverage NDCG:  0.35936977140805926\n"
     ]
    }
   ],
   "source": [
    "print(\"scores for 50 results\")\n",
    "print(\"Title scores\")\n",
    "print_cum_stats(title_run)\n",
    "\n",
    "print(\"\\nNarrative scores\")\n",
    "print_cum_stats(narrative_run)"
   ]
  },
  {
   "source": [
    "# Simple Re-Reranking: Combined scores per input\n",
    "Method: \n",
    "\n",
    "1. Treat title and narrative seperate \n",
    "2. Per input get results from semantic and bm25 index\n",
    "3. Score is bm25 score + sim score"
   ],
   "cell_type": "markdown",
   "metadata": {}
  },
  {
   "cell_type": "code",
   "execution_count": 10,
   "metadata": {},
   "outputs": [
    {
     "output_type": "display_data",
     "data": {
      "text/plain": "HBox(children=(FloatProgress(value=0.0, max=20.0), HTML(value='')))",
      "application/vnd.jupyter.widget-view+json": {
       "version_major": 2,
       "version_minor": 0,
       "model_id": "bb0eb141270f4f5e9d589b53f810b831"
      }
     },
     "metadata": {}
    },
    {
     "output_type": "stream",
     "name": "stdout",
     "text": [
      "\n"
     ]
    }
   ],
   "source": [
    "from collections import Counter\n",
    "from tqdm.notebook import tqdm\n",
    "title_run = {}\n",
    "narrative_run = {}\n",
    "\n",
    "\n",
    "for topic in tqdm(topics, total = len(topics)):\n",
    "\n",
    "    # Title results \n",
    "    title = topic[\"title\"].strip()\n",
    "    sti, sts = semantic_idx.query(title, num_results=30)\n",
    "    stid = db.batch_idx_lookup(sti)\n",
    "    stid_scores = dict(zip(stid, sts))\n",
    "\n",
    "    bti, bts = bm25_idx.query(title, num_results=30)\n",
    "    btid = db.batch_idx_lookup(bti)\n",
    "    btid_scores = dict(zip(btid, bts))\n",
    "\n",
    "    tctr = Counter(stid+btid)\n",
    "    t_scores = {}\n",
    "    for i in tctr:\n",
    "        s_score = stid_scores.get(i, 0)\n",
    "        b_score = btid_scores.get(i, 0)\n",
    "        t_scores[i] = s_score + b_score\n",
    "    title_run[topic[\"number\"]] = t_scores\n",
    "    \n",
    "    # Narrative results \n",
    "    narrative = topic[\"narrative\"].strip()\n",
    "    sni, sns = semantic_idx.query(narrative, num_results=30)\n",
    "    snid = db.batch_idx_lookup(sni)\n",
    "    snid_scores = dict(zip(snid, sts))\n",
    "\n",
    "    bni, bns = bm25_idx.query(narrative, num_results=30)\n",
    "    bnid = db.batch_idx_lookup(bni)\n",
    "    bnid_scores = dict(zip(bnid, bts))\n",
    "\n",
    "    nctr = Counter(snid+bnid)\n",
    "    n_scores = {}\n",
    "    for i in nctr:\n",
    "        s_score = snid_scores.get(i, 0)\n",
    "        b_score = bnid_scores.get(i, 0)\n",
    "        n_scores[i] = s_score + b_score\n",
    "    narrative_run[topic[\"number\"]] = n_scores\n",
    "    "
   ]
  },
  {
   "cell_type": "code",
   "execution_count": 11,
   "metadata": {},
   "outputs": [
    {
     "output_type": "stream",
     "name": "stdout",
     "text": [
      "Title scores\nAggregate results\nAverage MAP:  0.2632030395272856\nAverage P_5:  0.56\nAverage NDCG:  0.4455656685203385\n\nNarrative scores\nAggregate results\nAverage MAP:  0.3309275278638427\nAverage P_5:  0.72\nAverage NDCG:  0.5102306736334332\n"
     ]
    }
   ],
   "source": [
    "print(\"Title scores\")\n",
    "print_cum_stats(title_run)\n",
    "\n",
    "print(\"\\nNarrative scores\")\n",
    "print_cum_stats(narrative_run)"
   ]
  },
  {
   "source": [
    "# Simple Re-Reranking: Combined counts for title and narrative\n",
    "Method: \n",
    "\n",
    "1. Combine title and narrative \n",
    "2. Per input get results from semantic and bm25 index\n",
    "3. Score is combined count across all results"
   ],
   "cell_type": "markdown",
   "metadata": {}
  },
  {
   "cell_type": "code",
   "execution_count": 12,
   "metadata": {},
   "outputs": [
    {
     "output_type": "display_data",
     "data": {
      "text/plain": "HBox(children=(FloatProgress(value=0.0, max=20.0), HTML(value='')))",
      "application/vnd.jupyter.widget-view+json": {
       "version_major": 2,
       "version_minor": 0,
       "model_id": "0b7b1e0d7fa44bf4b6bc62fbeed11569"
      }
     },
     "metadata": {}
    },
    {
     "output_type": "stream",
     "name": "stdout",
     "text": [
      "\n"
     ]
    }
   ],
   "source": [
    "from collections import Counter\n",
    "from tqdm.notebook import tqdm\n",
    "combined_run = {}\n",
    "\n",
    "for topic in tqdm(topics, total = len(topics)):\n",
    "\n",
    "    # Title results \n",
    "    title = topic[\"title\"].strip()\n",
    "    sti, sts = semantic_idx.query(title, num_results=30)\n",
    "    stid = db.batch_idx_lookup(sti)\n",
    "    bti, bts = bm25_idx.query(title, num_results=30)\n",
    "    btid = db.batch_idx_lookup(bti)\n",
    "    \n",
    "    # Narrative results \n",
    "    narrative = topic[\"narrative\"].strip()\n",
    "    sni, sns = semantic_idx.query(narrative, num_results=30)\n",
    "    snid = db.batch_idx_lookup(sni)\n",
    "    \n",
    "    bni, bns = bm25_idx.query(narrative, num_results=30)\n",
    "    bnid = db.batch_idx_lookup(bni)\n",
    "    \n",
    "    ctr = Counter(stid + btid + snid + bnid)\n",
    "    combined_run[topic[\"number\"]] = dict(ctr.most_common(30))"
   ]
  },
  {
   "cell_type": "code",
   "execution_count": 13,
   "metadata": {},
   "outputs": [
    {
     "output_type": "stream",
     "name": "stdout",
     "text": [
      "Aggregate results\nAverage MAP:  0.2988690944149083\nAverage P_5:  0.71\nAverage NDCG:  0.4649682630922733\n"
     ]
    }
   ],
   "source": [
    "print_cum_stats(combined_run)"
   ]
  },
  {
   "source": [
    "# Simple Re-Reranking: Combined scores across all inputs\n",
    "Method: \n",
    "\n",
    "1. Consider title and narrative together\n",
    "2. Per input get results from semantic and bm25 index\n",
    "3. Score is bm25 score + sim score"
   ],
   "cell_type": "markdown",
   "metadata": {}
  },
  {
   "cell_type": "code",
   "execution_count": 14,
   "metadata": {},
   "outputs": [
    {
     "output_type": "display_data",
     "data": {
      "text/plain": "HBox(children=(FloatProgress(value=0.0, max=20.0), HTML(value='')))",
      "application/vnd.jupyter.widget-view+json": {
       "version_major": 2,
       "version_minor": 0,
       "model_id": "c5b84c75f90e46cba5fee9afa5618265"
      }
     },
     "metadata": {}
    },
    {
     "output_type": "stream",
     "name": "stdout",
     "text": [
      "\n"
     ]
    }
   ],
   "source": [
    "from collections import Counter\n",
    "from tqdm.notebook import tqdm\n",
    "\n",
    "combined_run = {}\n",
    "\n",
    "for topic in tqdm(topics, total = len(topics)):\n",
    "\n",
    "    # Title results \n",
    "    title = topic[\"title\"].strip()\n",
    "    sti, sts = semantic_idx.query(title, num_results=30)\n",
    "    stid = db.batch_idx_lookup(sti)\n",
    "    stid_scores = dict(zip(stid, sts))\n",
    "\n",
    "    bti, bts = bm25_idx.query(title, num_results=30)\n",
    "    btid = db.batch_idx_lookup(bti)\n",
    "    btid_scores = dict(zip(btid, bts))\n",
    "\n",
    "    tctr = Counter(stid+btid)\n",
    "    t_scores = {}\n",
    "    for i in tctr:\n",
    "        s_score = stid_scores.get(i, 0)\n",
    "        b_score = btid_scores.get(i, 0)\n",
    "        t_scores[i] = s_score + b_score\n",
    "    \n",
    "    # Narrative results \n",
    "    narrative = topic[\"narrative\"].strip()\n",
    "    sni, sns = semantic_idx.query(narrative, num_results=30)\n",
    "    snid = db.batch_idx_lookup(sni)\n",
    "    snid_scores = dict(zip(snid, sts))\n",
    "\n",
    "    bni, bns = bm25_idx.query(narrative, num_results=30)\n",
    "    bnid = db.batch_idx_lookup(bni)\n",
    "    bnid_scores = dict(zip(bnid, bts))\n",
    "\n",
    "    nctr = Counter(snid+bnid)\n",
    "    n_scores = {}\n",
    "    for i in nctr:\n",
    "        s_score = snid_scores.get(i, 0)\n",
    "        b_score = bnid_scores.get(i, 0)\n",
    "        n_scores[i] = s_score + b_score\n",
    "\n",
    "    combined_scores = {}\n",
    "    all_keys = list(n_scores.keys()) + list(t_scores.keys())\n",
    "    for key in all_keys:\n",
    "        t_s = t_scores.get(key, 0)\n",
    "        n_s = n_scores.get(key,0)\n",
    "        combined_scores[key] = t_s + n_s\n",
    "\n",
    "    combined_run[topic[\"number\"]] = combined_scores\n",
    "    \n"
   ]
  },
  {
   "cell_type": "code",
   "execution_count": 15,
   "metadata": {},
   "outputs": [
    {
     "output_type": "stream",
     "name": "stdout",
     "text": [
      "Aggregate results\nAverage MAP:  0.40540449823690966\nAverage P_5:  0.6900000000000001\nAverage NDCG:  0.6219014986596448\n"
     ]
    }
   ],
   "source": [
    "print_cum_stats(combined_run)"
   ]
  },
  {
   "cell_type": "code",
   "execution_count": 50,
   "metadata": {},
   "outputs": [
    {
     "output_type": "stream",
     "name": "stdout",
     "text": [
      "2021-06-07 00:25:18,412 loading file resources/causal-tagger/best-model.pt\n",
      "Span [8]: \"Drugs\"   [− Labels: CAUSE (0.9948)]\n",
      "Span [17]: \"death\"   [− Labels: EFFECT (0.8831)]\n"
     ]
    }
   ],
   "source": [
    "from flair.models import SequenceTagger\n",
    "from flair.data import Sentence\n",
    "\n",
    "model = SequenceTagger.load('resources/causal-tagger/best-model.pt')\n",
    "\n",
    "s = Sentence(\"Sometime you need to be careful. Drugs are the leading cause of food-bourne illness and death.\")\n",
    "model.predict(s)\n",
    "for entity in s.get_spans('ner'):\n",
    "    print(entity)\n"
   ]
  },
  {
   "cell_type": "code",
   "execution_count": null,
   "metadata": {},
   "outputs": [],
   "source": []
  }
 ]
}