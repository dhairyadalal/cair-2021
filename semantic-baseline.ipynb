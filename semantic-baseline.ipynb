{
 "metadata": {
  "language_info": {
   "codemirror_mode": {
    "name": "ipython",
    "version": 3
   },
   "file_extension": ".py",
   "mimetype": "text/x-python",
   "name": "python",
   "nbconvert_exporter": "python",
   "pygments_lexer": "ipython3",
   "version": "3.7.6"
  },
  "orig_nbformat": 2,
  "kernelspec": {
   "name": "python376jvsc74a57bd0724986c975149866732d61b2ac90a7d138756189efb080eae0ea097c9e5b0cee",
   "display_name": "Python 3.7.6 64-bit ('nlp-env': conda)"
  }
 },
 "nbformat": 4,
 "nbformat_minor": 2,
 "cells": [
  {
   "cell_type": "code",
   "execution_count": 1,
   "metadata": {},
   "outputs": [
    {
     "output_type": "stream",
     "name": "stdout",
     "text": [
      "finished\n"
     ]
    }
   ],
   "source": [
    "import pandas as pd \n",
    "from annoy import AnnoyIndex\n",
    "from sentence_transformers import SentenceTransformer, util\n",
    "import pickle \n",
    "\n",
    "df = pickle.load(open(\"data/parsed_docs_with_toks.pkl\", \"rb\"))\n",
    "\n",
    "#df = pd.read_csv(\"data/parsed_docs.csv\")\n",
    "model = SentenceTransformer('msmarco-distilbert-base-v3')\n",
    "\n",
    "idx = AnnoyIndex(768, \"angular\")\n",
    "idx.load(\"saved_indices/msmarco-distilbert-base-idx-cleaned.ann\", True)\n",
    "\n",
    "def cosine_similarity_transform(angular_distance):\n",
    "    return (2-(angular_distance**2))/2\n",
    "\n",
    "print(\"finished\")"
   ]
  },
  {
   "cell_type": "code",
   "execution_count": 2,
   "metadata": {},
   "outputs": [
    {
     "output_type": "display_data",
     "data": {
      "text/plain": "HBox(children=(FloatProgress(value=0.0, description='Batches', max=1.0, style=ProgressStyle(description_width=…",
      "application/vnd.jupyter.widget-view+json": {
       "version_major": 2,
       "version_minor": 0,
       "model_id": "9b3c09e9675f44868d1d38796b462658"
      }
     },
     "metadata": {}
    },
    {
     "output_type": "stream",
     "name": "stdout",
     "text": [
      "\n"
     ]
    },
    {
     "output_type": "display_data",
     "data": {
      "text/plain": "HBox(children=(FloatProgress(value=0.0, description='Batches', max=1.0, style=ProgressStyle(description_width=…",
      "application/vnd.jupyter.widget-view+json": {
       "version_major": 2,
       "version_minor": 0,
       "model_id": "395f753504a545a2b29eaf1f7b3c84bf"
      }
     },
     "metadata": {}
    },
    {
     "output_type": "stream",
     "name": "stdout",
     "text": [
      "\nfinished\n"
     ]
    }
   ],
   "source": [
    "from utils import extract_topics_from_file\n",
    "topics = extract_topics_from_file(\"qrels/2020/topics_test.txt\")\n",
    "\n",
    "titles = []\n",
    "narratives = []\n",
    "numbers = []\n",
    "for topic in topics:\n",
    "    titles.append(topic[\"title\"])\n",
    "    narratives.append(topic[\"narrative\"])\n",
    "    numbers.append(topic[\"number\"])\n",
    "\n",
    "titles_embed = model.encode(titles, show_progress_bar=True)\n",
    "narratives_embed = model.encode(narratives, show_progress_bar=True)\n",
    "\n",
    "print(\"finished\")"
   ]
  },
  {
   "cell_type": "code",
   "execution_count": 3,
   "metadata": {},
   "outputs": [],
   "source": [
    "def extract_annoy_results(docs, scores):\n",
    "    results = {}\n",
    "    for i, doc_id in enumerate(docs):\n",
    "        docno = df.iloc[doc_id].docno\n",
    "        score = cosine_similarity_transform(scores[i])\n",
    "        results[docno]=score    \n",
    "    return results"
   ]
  },
  {
   "cell_type": "code",
   "execution_count": 5,
   "metadata": {},
   "outputs": [
    {
     "output_type": "stream",
     "name": "stdout",
     "text": [
      "finished\n"
     ]
    }
   ],
   "source": [
    "title_run = {}\n",
    "narrative_run = {}\n",
    "\n",
    "for i, num in enumerate(numbers):\n",
    "\n",
    "    te = titles_embed[i]\n",
    "    doc_idx, scores = idx.get_nns_by_vector(te, 50, search_k=-1, include_distances=True)\n",
    "    te_results = extract_annoy_results(doc_idx, scores)\n",
    "\n",
    "    title_run[num] = te_results\n",
    "\n",
    "    ne = narratives_embed[i]\n",
    "    doc_idx, scores = idx.get_nns_by_vector(ne, 50, search_k=-1, include_distances=True)\n",
    "    ne_results = extract_annoy_results(doc_idx, scores)\n",
    "\n",
    "    title_run[num] = te_results\n",
    "    narrative_run[num] = ne_results\n",
    "\n",
    "print(\"finished\")"
   ]
  },
  {
   "cell_type": "code",
   "execution_count": 6,
   "metadata": {},
   "outputs": [],
   "source": [
    "import pytrec_eval\n",
    "from utils import read_qrel_from_file, evaluate_run\n",
    "import numpy as np \n",
    "import json \n",
    "\n",
    "qrel = read_qrel_from_file(\"qrels/2020/cair2020_qrel.txt\")\n",
    "\n",
    "metrics: set = {'map', 'ndcg', 'P_5'}\n",
    "evaluator = pytrec_eval.RelevanceEvaluator(qrel, metrics)"
   ]
  },
  {
   "cell_type": "code",
   "execution_count": 7,
   "metadata": {},
   "outputs": [
    {
     "output_type": "display_data",
     "data": {
      "text/plain": "{'1': {'map': 0.05560247570190172, 'P_5': 0.4, 'ndcg': 0.19691946609465433},\n '2': {'map': 0.15426249463419384, 'P_5': 0.6, 'ndcg': 0.34006229702489765},\n '3': {'map': 0.3153232729191809, 'P_5': 0.6, 'ndcg': 0.5663729881946739},\n '4': {'map': 0.21128760670901867, 'P_5': 0.6, 'ndcg': 0.44069356900088835},\n '5': {'map': 0.2173955408434431, 'P_5': 0.8, 'ndcg': 0.41991963455638426},\n '6': {'map': 0.18616409625044408, 'P_5': 0.2, 'ndcg': 0.4089745464735173},\n '7': {'map': 0.15653457001469892, 'P_5': 0.4, 'ndcg': 0.35257279484510473},\n '8': {'map': 0.7557692307692307, 'P_5': 1.0, 'ndcg': 0.8892297814436292},\n '9': {'map': 0.028128054740957965, 'P_5': 0.2, 'ndcg': 0.14588739561224537},\n '10': {'map': 0.2293781160968661, 'P_5': 0.8, 'ndcg': 0.4442875783858846},\n '11': {'map': 0.02946162298262468, 'P_5': 0.2, 'ndcg': 0.14341022615020332},\n '12': {'map': 0.15696248196248197, 'P_5': 0.8, 'ndcg': 0.32662179994368323},\n '13': {'map': 0.2511933889462189, 'P_5': 0.8, 'ndcg': 0.4513526858207871},\n '14': {'map': 0.34731069706093437, 'P_5': 0.8, 'ndcg': 0.5661488851179192},\n '15': {'map': 0.2524330504593662, 'P_5': 0.8, 'ndcg': 0.46386907137715305},\n '21': {'map': 0.4826203269505619, 'P_5': 1.0, 'ndcg': 0.6660612133226094},\n '22': {'map': 0.006480326784078184, 'P_5': 0.0, 'ndcg': 0.06769954618917273},\n '23': {'map': 0.014594594594594595, 'P_5': 0.2, 'ndcg': 0.07667900293517169},\n '24': {'map': 0.17209958422550983, 'P_5': 0.8, 'ndcg': 0.3729455588492298},\n '25': {'map': 0.06755324844619287, 'P_5': 0.4, 'ndcg': 0.22433888931055482}}"
     },
     "metadata": {}
    },
    {
     "output_type": "stream",
     "name": "stdout",
     "text": [
      "Aggregate results\nAverage MAP:  0.20452773905462496\nAverage P_5:  0.5700000000000001\n"
     ]
    }
   ],
   "source": [
    "run_results = evaluator.evaluate(title_run)\n",
    "\n",
    "map_scores = [v[\"map\"] for k,v in run_results.items()]\n",
    "p_scores  = [v[\"P_5\"] for k,v in run_results.items()]\n",
    "\n",
    "display(run_results)\n",
    "\n",
    "print(\"Aggregate results\")\n",
    "print(\"Average MAP: \", np.mean(map_scores))\n",
    "print(\"Average P_5: \", np.mean(p_scores))\n",
    "\n",
    "# with open(\"results/msmarco-distilbert-base-v3-baseline/title-results.txt\", \"w\") as f:\n",
    "#     f.write(f\"Average MAP: {np.mean(map_scores)}\\n\")\n",
    "#     f.write(f\"Average P_5: {np.mean(p_scores)}\\n\")\n",
    "#     f.write(f\"Individual run results: \\n\")\n",
    "#     f.write(json.dumps(run_results, indent=4))\n",
    "\n",
    "# with open(\"results/msmarco-distilbert-base-v3-baseline/title-run.txt\", \"w\") as f:\n",
    "#     f.write(json.dumps(title_run, indent=4))"
   ]
  },
  {
   "cell_type": "code",
   "execution_count": 17,
   "metadata": {},
   "outputs": [
    {
     "output_type": "display_data",
     "data": {
      "text/plain": "{'1': {'map': 0.028186453348101336, 'P_5': 0.2, 'ndcg': 0.13783416795111758},\n '2': {'map': 0.0878333217103761, 'P_5': 0.2, 'ndcg': 0.25471330971680556},\n '3': {'map': 0.2902547046753907, 'P_5': 0.6, 'ndcg': 0.5540259522972194},\n '4': {'map': 0.18391645772620296, 'P_5': 0.6, 'ndcg': 0.3997304140576192},\n '5': {'map': 0.18594354984581526, 'P_5': 0.8, 'ndcg': 0.38494170748253004},\n '6': {'map': 0.18616409625044408, 'P_5': 0.2, 'ndcg': 0.4089745464735173},\n '7': {'map': 0.13881781553342115, 'P_5': 0.4, 'ndcg': 0.3225321900572252},\n '8': {'map': 0.3177777777777777, 'P_5': 0.6, 'ndcg': 0.5244510491500967},\n '9': {'map': 0.028128054740957965, 'P_5': 0.2, 'ndcg': 0.14588739561224537},\n '10': {'map': 0.24266395154553047, 'P_5': 0.8, 'ndcg': 0.47083199301647755},\n '11': {'map': 0.021755701458440323, 'P_5': 0.2, 'ndcg': 0.11813375280458877},\n '12': {'map': 0.15696248196248197, 'P_5': 0.8, 'ndcg': 0.32662179994368323},\n '13': {'map': 0.15455119195056582, 'P_5': 0.6, 'ndcg': 0.3579751230710474},\n '14': {'map': 0.2968136979979086, 'P_5': 0.8, 'ndcg': 0.49315734365328223},\n '15': {'map': 0.24775647153896127, 'P_5': 0.8, 'ndcg': 0.4617091484520583},\n '21': {'map': 0.46082225620244155, 'P_5': 1.0, 'ndcg': 0.6489157219335873},\n '22': {'map': 0.006480326784078184, 'P_5': 0.0, 'ndcg': 0.06769954618917273},\n '23': {'map': 0.013513513513513514, 'P_5': 0.2, 'ndcg': 0.05993284758572256},\n '24': {'map': 0.11185867895545314, 'P_5': 0.8, 'ndcg': 0.2698912089169293},\n '25': {'map': 0.061826715912588495, 'P_5': 0.2, 'ndcg': 0.21708653300611166}}"
     },
     "metadata": {}
    },
    {
     "output_type": "stream",
     "name": "stdout",
     "text": [
      "Aggregate results\nAverage MAP:  0.16110136097152256\nAverage P_5:  0.5\n"
     ]
    }
   ],
   "source": [
    "run_results = evaluator.evaluate(title_run)\n",
    "\n",
    "map_scores = [v[\"map\"] for k,v in run_results.items()]\n",
    "p_scores  = [v[\"P_5\"] for k,v in run_results.items()]\n",
    "\n",
    "display(run_results)\n",
    "\n",
    "print(\"Aggregate results\")\n",
    "print(\"Average MAP: \", np.mean(map_scores))\n",
    "print(\"Average P_5: \", np.mean(p_scores))\n",
    "\n",
    "# with open(\"results/msmarco-distilbert-base-v3-baseline/title-results.txt\", \"w\") as f:\n",
    "#     f.write(f\"Average MAP: {np.mean(map_scores)}\\n\")\n",
    "#     f.write(f\"Average P_5: {np.mean(p_scores)}\\n\")\n",
    "#     f.write(f\"Individual run results: \\n\")\n",
    "#     f.write(json.dumps(run_results, indent=4))\n",
    "\n",
    "# with open(\"results/msmarco-distilbert-base-v3-baseline/title-run.txt\", \"w\") as f:\n",
    "#     f.write(json.dumps(title_run, indent=4))"
   ]
  },
  {
   "cell_type": "code",
   "execution_count": 8,
   "metadata": {},
   "outputs": [
    {
     "output_type": "display_data",
     "data": {
      "text/plain": "{'1': {'map': 0.10351377280903443, 'P_5': 0.6, 'ndcg': 0.27228100638824765},\n '2': {'map': 0.18786479000861805, 'P_5': 0.8, 'ndcg': 0.39342649643841476},\n '3': {'map': 0.46647286827675355, 'P_5': 0.8, 'ndcg': 0.7099488693111984},\n '4': {'map': 0.3996539983017873, 'P_5': 0.8, 'ndcg': 0.59684129439608},\n '5': {'map': 0.2928946469906547, 'P_5': 1.0, 'ndcg': 0.4734746258813843},\n '6': {'map': 0.17505825967732563, 'P_5': 0.4, 'ndcg': 0.4350588997889799},\n '7': {'map': 0.1413049416013761, 'P_5': 0.6, 'ndcg': 0.3264730002285519},\n '8': {'map': 0.0, 'P_5': 0.0, 'ndcg': 0.0},\n '9': {'map': 0.14634103641456583, 'P_5': 0.6, 'ndcg': 0.3556978156499063},\n '10': {'map': 0.362392105985856, 'P_5': 0.8, 'ndcg': 0.6027818564540383},\n '11': {'map': 0.029655648999718114, 'P_5': 0.2, 'ndcg': 0.14735600095378032},\n '12': {'map': 0.29489544618084224, 'P_5': 0.8, 'ndcg': 0.5165269941438778},\n '13': {'map': 0.402549384045509, 'P_5': 1.0, 'ndcg': 0.5882884369711651},\n '14': {'map': 0.03508771929824561, 'P_5': 0.2, 'ndcg': 0.12655343757188459},\n '15': {'map': 0.40885247474925257, 'P_5': 0.8, 'ndcg': 0.6321653920581257},\n '21': {'map': 0.6030536818579014, 'P_5': 1.0, 'ndcg': 0.7218519984460897},\n '22': {'map': 0.024666796066252585, 'P_5': 0.2, 'ndcg': 0.12337575600519529},\n '23': {'map': 0.4920802226172143, 'P_5': 0.8, 'ndcg': 0.6744770757524152},\n '24': {'map': 0.3227230082102373, 'P_5': 0.8, 'ndcg': 0.5299041012093834},\n '25': {'map': 0.0, 'P_5': 0.0, 'ndcg': 0.0}}"
     },
     "metadata": {}
    },
    {
     "output_type": "stream",
     "name": "stdout",
     "text": [
      "Aggregate results\nAverage MAP:  0.24445304010455726\nAverage P_5:  0.6100000000000001\n"
     ]
    }
   ],
   "source": [
    "run_results = evaluator.evaluate(narrative_run)\n",
    "\n",
    "map_scores = [v[\"map\"] for k,v in run_results.items()]\n",
    "p_scores  = [v[\"P_5\"] for k,v in run_results.items()]\n",
    "\n",
    "display(run_results)\n",
    "\n",
    "print(\"Aggregate results\")\n",
    "print(\"Average MAP: \", np.mean(map_scores))\n",
    "print(\"Average P_5: \", np.mean(p_scores))"
   ]
  },
  {
   "cell_type": "code",
   "execution_count": 18,
   "metadata": {},
   "outputs": [
    {
     "output_type": "display_data",
     "data": {
      "text/plain": "{'1': {'map': 0.0944483692782852, 'P_5': 0.6, 'ndcg': 0.253528433793341},\n '2': {'map': 0.10162770346428517, 'P_5': 0.4, 'ndcg': 0.29225178246877154},\n '3': {'map': 0.5101200047939178, 'P_5': 0.8, 'ndcg': 0.7434936642100887},\n '4': {'map': 0.20869065652915597, 'P_5': 0.2, 'ndcg': 0.4172871060592224},\n '5': {'map': 0.2928946469906547, 'P_5': 1.0, 'ndcg': 0.4734746258813843},\n '6': {'map': 0.17505825967732563, 'P_5': 0.4, 'ndcg': 0.4350588997889799},\n '7': {'map': 0.14101823724755508, 'P_5': 0.6, 'ndcg': 0.32631342800728835},\n '8': {'map': 0.0, 'P_5': 0.0, 'ndcg': 0.0},\n '9': {'map': 0.13411534701857283, 'P_5': 0.4, 'ndcg': 0.34339786214378665},\n '10': {'map': 0.32765752765752765, 'P_5': 0.8, 'ndcg': 0.5511097322857154},\n '11': {'map': 0.020416873957678213, 'P_5': 0.2, 'ndcg': 0.11501546574962641},\n '12': {'map': 0.29489544618084224, 'P_5': 0.8, 'ndcg': 0.5165269941438778},\n '13': {'map': 0.3049577486819272, 'P_5': 0.8, 'ndcg': 0.5177103649165715},\n '14': {'map': 0.06140350877192983, 'P_5': 0.4, 'ndcg': 0.1802793480527299},\n '15': {'map': 0.40245014762340686, 'P_5': 0.8, 'ndcg': 0.6299111106468671},\n '21': {'map': 0.5814918726047643, 'P_5': 1.0, 'ndcg': 0.7149957764677259},\n '22': {'map': 0.024666796066252585, 'P_5': 0.2, 'ndcg': 0.12337575600519529},\n '23': {'map': 0.4920802226172143, 'P_5': 0.8, 'ndcg': 0.6744770757524152},\n '24': {'map': 0.3101513115165955, 'P_5': 0.8, 'ndcg': 0.5176083467966385},\n '25': {'map': 0.0, 'P_5': 0.0, 'ndcg': 0.0}}"
     },
     "metadata": {}
    },
    {
     "output_type": "stream",
     "name": "stdout",
     "text": [
      "Aggregate results\nAverage MAP:  0.22390723403389456\nAverage P_5:  0.55\n"
     ]
    }
   ],
   "source": [
    "run_results = evaluator.evaluate(narrative_run)\n",
    "\n",
    "map_scores = [v[\"map\"] for k,v in run_results.items()]\n",
    "p_scores  = [v[\"P_5\"] for k,v in run_results.items()]\n",
    "\n",
    "display(run_results)\n",
    "\n",
    "print(\"Aggregate results\")\n",
    "print(\"Average MAP: \", np.mean(map_scores))\n",
    "print(\"Average P_5: \", np.mean(p_scores))\n",
    "\n",
    "# with open(\"results/msmarco-distilbert-base-v3-baseline/narrative-results.txt\", \"w\") as f:\n",
    "#     f.write(f\"Average MAP: {np.mean(map_scores)}\\n\")\n",
    "#     f.write(f\"Average P_5: {np.mean(p_scores)}\\n\")\n",
    "#     f.write(f\"Individual run results: \\n\")\n",
    "#     f.write(json.dumps(run_results, indent=4))\n",
    "\n",
    "# with open(\"results/msmarco-distilbert-base-v3-baseline/narrative-title-run.txt\", \"w\") as f:\n",
    "#     f.write(json.dumps(title_run, indent=4))"
   ]
  },
  {
   "cell_type": "code",
   "execution_count": null,
   "metadata": {},
   "outputs": [],
   "source": []
  }
 ]
}