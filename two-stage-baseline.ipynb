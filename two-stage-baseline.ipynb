{
 "metadata": {
  "language_info": {
   "codemirror_mode": {
    "name": "ipython",
    "version": 3
   },
   "file_extension": ".py",
   "mimetype": "text/x-python",
   "name": "python",
   "nbconvert_exporter": "python",
   "pygments_lexer": "ipython3",
   "version": "3.7.6"
  },
  "orig_nbformat": 2,
  "kernelspec": {
   "name": "python376jvsc74a57bd0724986c975149866732d61b2ac90a7d138756189efb080eae0ea097c9e5b0cee",
   "display_name": "Python 3.7.6 64-bit ('nlp-env': conda)"
  }
 },
 "nbformat": 4,
 "nbformat_minor": 2,
 "cells": [
  {
   "cell_type": "code",
   "execution_count": 2,
   "metadata": {},
   "outputs": [
    {
     "output_type": "stream",
     "name": "stdout",
     "text": [
      "loaded\n"
     ]
    }
   ],
   "source": [
    "from src import BM25Index\n",
    "from utils import DocumentDB\n",
    "\n",
    "db = DocumentDB()\n",
    "bm25 = BM25Index()\n",
    "\n",
    "print(\"loaded\")"
   ]
  },
  {
   "cell_type": "code",
   "execution_count": 3,
   "metadata": {},
   "outputs": [],
   "source": [
    "import pytrec_eval\n",
    "from utils import read_qrel_from_file, evaluate_run, extract_topics_from_file\n",
    "topics = extract_topics_from_file(\"qrels/topics_train.txt\")\n",
    "qrel = read_qrel_from_file(\"qrels/qrel_train.txt\")\n",
    "\n",
    "metrics: set = {'map', 'ndcg', 'P_5'}\n",
    "evaluator = pytrec_eval.RelevanceEvaluator(qrel, metrics)\n",
    "\n",
    "import numpy as np\n",
    "\n",
    "def print_cum_stats(run):\n",
    "    run_results = evaluator.evaluate(run)\n",
    "\n",
    "    map_scores = [v[\"map\"] for k,v in run_results.items()]\n",
    "    p_scores  = [v[\"P_5\"] for k,v in run_results.items()]\n",
    "    ndcg_scores = [v['ndcg'] for k,v in run_results.items()]\n",
    "\n",
    "    print(\"Aggregate results\")\n",
    "    print(\"Average MAP: \", np.mean(map_scores))\n",
    "    print(\"Average P_5: \", np.mean(p_scores))\n",
    "    print(\"Average NDCG: \", np.mean(ndcg_scores))\n"
   ]
  },
  {
   "cell_type": "code",
   "execution_count": 17,
   "metadata": {},
   "outputs": [],
   "source": [
    "import spacy \n",
    "\n",
    "nlp = bm25.nlp"
   ]
  },
  {
   "cell_type": "code",
   "execution_count": 89,
   "metadata": {},
   "outputs": [],
   "source": [
    "from tqdm.notebook import tqdm\n",
    "from nltk.tokenize import sent_tokenize\n",
    "from textblob import TextBlob\n",
    "from collections import Counter\n",
    "\n",
    "causitives = [\"because\", \"because of\", \"due to\", \"lead to\", \"causes\", \"result of\", \"leading cause\"]\n",
    "causitive_re = re.compile(r\"|\".join(causitives))\n",
    "\n",
    "ignore = [\"irrelevant\", \"not relevant\", \"does not satisfy relevance\"]\n",
    "\n",
    "def extract_causal_terms(texts, num_terms: int = 100):\n",
    "    terms = []\n",
    "    for text in tqdm(texts):\n",
    "        sents  = sent_tokenize(text)\n",
    "        for sent in sents:\n",
    "            snorm = sent.lower()\n",
    "            if causitive_re.search(snorm):\n",
    "                blob = TextBlob(snorm)\n",
    "                verbs = [ tup[0] for tup in blob.tags \n",
    "                            if tup[1] in verb_tags and tup[0] not in STOP_WORDS ]\n",
    "                terms.extend(list(blob.noun_phrases))\n",
    "    terms = [tup[0] for tup in Counter(terms).most_common(num_terms)]\n",
    "    return terms\n",
    "    "
   ]
  },
  {
   "cell_type": "code",
   "execution_count": 97,
   "metadata": {},
   "outputs": [
    {
     "output_type": "display_data",
     "data": {
      "text/plain": "HBox(children=(FloatProgress(value=0.0, max=20.0), HTML(value='')))",
      "application/vnd.jupyter.widget-view+json": {
       "version_major": 2,
       "version_minor": 0,
       "model_id": "1727c2df550b4f26b650296383cac911"
      }
     },
     "metadata": {}
    },
    {
     "output_type": "display_data",
     "data": {
      "text/plain": "HBox(children=(FloatProgress(value=0.0), HTML(value='')))",
      "application/vnd.jupyter.widget-view+json": {
       "version_major": 2,
       "version_minor": 0,
       "model_id": "394b6c3b9f514124b055ab3f1e6f94cd"
      }
     },
     "metadata": {}
    },
    {
     "output_type": "stream",
     "name": "stdout",
     "text": [
      "\n"
     ]
    },
    {
     "output_type": "display_data",
     "data": {
      "text/plain": "HBox(children=(FloatProgress(value=0.0), HTML(value='')))",
      "application/vnd.jupyter.widget-view+json": {
       "version_major": 2,
       "version_minor": 0,
       "model_id": "1c697aa41b874e70886cb9e1273f78f9"
      }
     },
     "metadata": {}
    },
    {
     "output_type": "stream",
     "name": "stdout",
     "text": [
      "\n"
     ]
    },
    {
     "output_type": "display_data",
     "data": {
      "text/plain": "HBox(children=(FloatProgress(value=0.0), HTML(value='')))",
      "application/vnd.jupyter.widget-view+json": {
       "version_major": 2,
       "version_minor": 0,
       "model_id": "5f5350683f734ea1963b358fc8076f76"
      }
     },
     "metadata": {}
    },
    {
     "output_type": "stream",
     "name": "stdout",
     "text": [
      "\n"
     ]
    },
    {
     "output_type": "display_data",
     "data": {
      "text/plain": "HBox(children=(FloatProgress(value=0.0), HTML(value='')))",
      "application/vnd.jupyter.widget-view+json": {
       "version_major": 2,
       "version_minor": 0,
       "model_id": "659ba613dd4747d8811af0e7dbac5fd8"
      }
     },
     "metadata": {}
    },
    {
     "output_type": "stream",
     "name": "stdout",
     "text": [
      "\n"
     ]
    },
    {
     "output_type": "display_data",
     "data": {
      "text/plain": "HBox(children=(FloatProgress(value=0.0), HTML(value='')))",
      "application/vnd.jupyter.widget-view+json": {
       "version_major": 2,
       "version_minor": 0,
       "model_id": "c7f861a7c2e9482685bba23ba118f82e"
      }
     },
     "metadata": {}
    },
    {
     "output_type": "stream",
     "name": "stdout",
     "text": [
      "\n"
     ]
    },
    {
     "output_type": "display_data",
     "data": {
      "text/plain": "HBox(children=(FloatProgress(value=0.0), HTML(value='')))",
      "application/vnd.jupyter.widget-view+json": {
       "version_major": 2,
       "version_minor": 0,
       "model_id": "e6db0f985ecd4fd5ad9c0a095ee7d3de"
      }
     },
     "metadata": {}
    },
    {
     "output_type": "stream",
     "name": "stdout",
     "text": [
      "\n"
     ]
    },
    {
     "output_type": "display_data",
     "data": {
      "text/plain": "HBox(children=(FloatProgress(value=0.0), HTML(value='')))",
      "application/vnd.jupyter.widget-view+json": {
       "version_major": 2,
       "version_minor": 0,
       "model_id": "08feb4c8500645f6a1d79c9958afcb50"
      }
     },
     "metadata": {}
    },
    {
     "output_type": "stream",
     "name": "stdout",
     "text": [
      "\n"
     ]
    },
    {
     "output_type": "display_data",
     "data": {
      "text/plain": "HBox(children=(FloatProgress(value=0.0), HTML(value='')))",
      "application/vnd.jupyter.widget-view+json": {
       "version_major": 2,
       "version_minor": 0,
       "model_id": "d4e559e4ef7f46ad818220a75ade6173"
      }
     },
     "metadata": {}
    },
    {
     "output_type": "stream",
     "name": "stdout",
     "text": [
      "\n"
     ]
    },
    {
     "output_type": "display_data",
     "data": {
      "text/plain": "HBox(children=(FloatProgress(value=0.0), HTML(value='')))",
      "application/vnd.jupyter.widget-view+json": {
       "version_major": 2,
       "version_minor": 0,
       "model_id": "c87087f96be64dec8ef67797015ea44f"
      }
     },
     "metadata": {}
    },
    {
     "output_type": "stream",
     "name": "stdout",
     "text": [
      "\n"
     ]
    },
    {
     "output_type": "display_data",
     "data": {
      "text/plain": "HBox(children=(FloatProgress(value=0.0), HTML(value='')))",
      "application/vnd.jupyter.widget-view+json": {
       "version_major": 2,
       "version_minor": 0,
       "model_id": "2157473590c742368ee1e9702afef2ad"
      }
     },
     "metadata": {}
    },
    {
     "output_type": "stream",
     "name": "stdout",
     "text": [
      "\n"
     ]
    },
    {
     "output_type": "display_data",
     "data": {
      "text/plain": "HBox(children=(FloatProgress(value=0.0), HTML(value='')))",
      "application/vnd.jupyter.widget-view+json": {
       "version_major": 2,
       "version_minor": 0,
       "model_id": "b9118394dcec433d80518a972f0b01e3"
      }
     },
     "metadata": {}
    },
    {
     "output_type": "stream",
     "name": "stdout",
     "text": [
      "\n"
     ]
    },
    {
     "output_type": "display_data",
     "data": {
      "text/plain": "HBox(children=(FloatProgress(value=0.0), HTML(value='')))",
      "application/vnd.jupyter.widget-view+json": {
       "version_major": 2,
       "version_minor": 0,
       "model_id": "8e31e4c4f3ca4f66b8716b1221b1588f"
      }
     },
     "metadata": {}
    },
    {
     "output_type": "stream",
     "name": "stdout",
     "text": [
      "\n"
     ]
    },
    {
     "output_type": "display_data",
     "data": {
      "text/plain": "HBox(children=(FloatProgress(value=0.0), HTML(value='')))",
      "application/vnd.jupyter.widget-view+json": {
       "version_major": 2,
       "version_minor": 0,
       "model_id": "10dd00fe53e2493397b41d0dfe1ecb29"
      }
     },
     "metadata": {}
    },
    {
     "output_type": "stream",
     "name": "stdout",
     "text": [
      "\n"
     ]
    },
    {
     "output_type": "display_data",
     "data": {
      "text/plain": "HBox(children=(FloatProgress(value=0.0), HTML(value='')))",
      "application/vnd.jupyter.widget-view+json": {
       "version_major": 2,
       "version_minor": 0,
       "model_id": "d62104745d0a4232bab44a6bb34c461d"
      }
     },
     "metadata": {}
    },
    {
     "output_type": "stream",
     "name": "stdout",
     "text": [
      "\n"
     ]
    },
    {
     "output_type": "display_data",
     "data": {
      "text/plain": "HBox(children=(FloatProgress(value=0.0), HTML(value='')))",
      "application/vnd.jupyter.widget-view+json": {
       "version_major": 2,
       "version_minor": 0,
       "model_id": "3059924015b44c979463f296dc9d6f25"
      }
     },
     "metadata": {}
    },
    {
     "output_type": "stream",
     "name": "stdout",
     "text": [
      "\n"
     ]
    },
    {
     "output_type": "display_data",
     "data": {
      "text/plain": "HBox(children=(FloatProgress(value=0.0), HTML(value='')))",
      "application/vnd.jupyter.widget-view+json": {
       "version_major": 2,
       "version_minor": 0,
       "model_id": "f8c4d883b3e548959469ec8e8d619c43"
      }
     },
     "metadata": {}
    },
    {
     "output_type": "stream",
     "name": "stdout",
     "text": [
      "\n"
     ]
    },
    {
     "output_type": "display_data",
     "data": {
      "text/plain": "HBox(children=(FloatProgress(value=0.0), HTML(value='')))",
      "application/vnd.jupyter.widget-view+json": {
       "version_major": 2,
       "version_minor": 0,
       "model_id": "3a918f7b62be4b21aac6dbaeeb681e24"
      }
     },
     "metadata": {}
    },
    {
     "output_type": "stream",
     "name": "stdout",
     "text": [
      "\n"
     ]
    },
    {
     "output_type": "display_data",
     "data": {
      "text/plain": "HBox(children=(FloatProgress(value=0.0), HTML(value='')))",
      "application/vnd.jupyter.widget-view+json": {
       "version_major": 2,
       "version_minor": 0,
       "model_id": "d35000e279424c798be53e2b1acf49d6"
      }
     },
     "metadata": {}
    },
    {
     "output_type": "stream",
     "name": "stdout",
     "text": [
      "\n"
     ]
    },
    {
     "output_type": "display_data",
     "data": {
      "text/plain": "HBox(children=(FloatProgress(value=0.0), HTML(value='')))",
      "application/vnd.jupyter.widget-view+json": {
       "version_major": 2,
       "version_minor": 0,
       "model_id": "a6971c4d22194c85a3f7d6669ea94671"
      }
     },
     "metadata": {}
    },
    {
     "output_type": "stream",
     "name": "stdout",
     "text": [
      "\n"
     ]
    },
    {
     "output_type": "display_data",
     "data": {
      "text/plain": "HBox(children=(FloatProgress(value=0.0), HTML(value='')))",
      "application/vnd.jupyter.widget-view+json": {
       "version_major": 2,
       "version_minor": 0,
       "model_id": "a008f6227b944490aa8ad3023c1fb033"
      }
     },
     "metadata": {}
    },
    {
     "output_type": "stream",
     "name": "stdout",
     "text": [
      "\n",
      "\n"
     ]
    }
   ],
   "source": [
    "from collections import Counter\n",
    "from tqdm.notebook import tqdm\n",
    "\n",
    "run = {}\n",
    "for topic in tqdm(topics, total = len(topics)):\n",
    "    # 1st search\n",
    "    title = topic[\"title\"].strip()\n",
    "    bti, bts = bm25.query(title, num_results=100)\n",
    "    texts = db.get_docs_from_ids(bti)\n",
    "    terms = extract_causal_terms(texts, num_terms=50)\n",
    "\n",
    "    # 2nd search\n",
    "    new_query = title + \" \".join(terms)\n",
    "    bti2, bts2 = bm25.query(title, num_results=100)\n",
    "    docnos = db.batch_idx_lookup(bti)\n",
    "\n",
    "    final = dict(zip(docnos, bts2))\n",
    "    run[topic[\"number\"]] = final\n"
   ]
  },
  {
   "cell_type": "code",
   "execution_count": 98,
   "metadata": {},
   "outputs": [
    {
     "output_type": "stream",
     "name": "stdout",
     "text": [
      "Aggregate results\nAverage MAP:  0.3672574509214016\nAverage P_5:  0.53\nAverage NDCG:  0.5836224277875107\n"
     ]
    }
   ],
   "source": [
    "print_cum_stats(run)"
   ]
  },
  {
   "cell_type": "code",
   "execution_count": 88,
   "metadata": {},
   "outputs": [
    {
     "output_type": "display_data",
     "data": {
      "text/plain": "HBox(children=(FloatProgress(value=0.0, max=30.0), HTML(value='')))",
      "application/vnd.jupyter.widget-view+json": {
       "version_major": 2,
       "version_minor": 0,
       "model_id": "e5664d780cbc4038a9f719948c1e447d"
      }
     },
     "metadata": {}
    },
    {
     "output_type": "stream",
     "name": "stdout",
     "text": [
      "\n"
     ]
    },
    {
     "output_type": "execute_result",
     "data": {
      "text/plain": [
       "['warning system',\n",
       " 'international law',\n",
       " 'fresh violence',\n",
       " 'scuttle peace initiatives',\n",
       " 'brutal assassination',\n",
       " 'foreign minister lakshman kadirgamar',\n",
       " 'strong signal',\n",
       " 'such violent acts',\n",
       " 'global isolation',\n",
       " 'tamil tigers',\n",
       " 'new generations',\n",
       " 'sir richard attenborough',\n",
       " 'recent mid-term elections']"
      ]
     },
     "metadata": {},
     "execution_count": 88
    }
   ],
   "source": [
    "db.batch_idx_lookup"
   ]
  },
  {
   "cell_type": "code",
   "execution_count": 74,
   "metadata": {},
   "outputs": [
    {
     "output_type": "execute_result",
     "data": {
      "text/plain": [
       "[('relevant documents', 0.10230590928214879),\n",
       " ('serial killing', 0.09846427343907829),\n",
       " ('blasts', 0.0956229885524526),\n",
       " ('mumbai terror attack', 0.09223428922046087),\n",
       " ('kasab', 0.0869510967834399),\n",
       " ('complicity', 0.08605254658766617),\n",
       " ('confession', 0.08484378351772881),\n",
       " ('news', 0.07431433667211303),\n",
       " ('trials', 0.07288941362966493),\n",
       " ('information', 0.0703752562262171),\n",
       " ('qaida group', 0.07016462055938852),\n",
       " ('family background', 0.06578148552964054)]"
      ]
     },
     "metadata": {},
     "execution_count": 74
    }
   ],
   "source": [
    "import pke\n",
    "from nltk.corpus import stopwords\n",
    "\n",
    "extractor = pke.unsupervised.TopicRank()\n",
    "extractor.load_document(input=topics[1][\"narrative\"].strip(), language='en')\n",
    "extractor.candidate_selection()\n",
    "extractor.candidate_weighting(threshold=.65)\n",
    "extractor.get_n_best(n=15)"
   ]
  },
  {
   "cell_type": "code",
   "execution_count": 4,
   "metadata": {},
   "outputs": [
    {
     "output_type": "stream",
     "name": "stderr",
     "text": [
      "/home/dhairya.dalal/.conda/envs/nlp-env/lib/python3.7/site-packages/torch/cuda/__init__.py:52: UserWarning: CUDA initialization: The NVIDIA driver on your system is too old (found version 10010). Please update your GPU driver by downloading and installing a new version from the URL: http://www.nvidia.com/Download/index.aspx Alternatively, go to: https://pytorch.org to install a PyTorch version that has been compiled with your version of the CUDA driver. (Triggered internally at  /pytorch/c10/cuda/CUDAFunctions.cpp:100.)\n",
      "  return torch._C._cuda_getDeviceCount() > 0\n",
      "2021-06-13 14:32:06,854 loading file tagger/causal-tagger/best-model.pt\n"
     ]
    }
   ],
   "source": [
    "from flair.models import SequenceTagger\n",
    "from flair.data import Sentence\n",
    "\n",
    "model = SequenceTagger.load('tagger/causal-tagger/best-model.pt')"
   ]
  },
  {
   "cell_type": "code",
   "execution_count": 4,
   "metadata": {},
   "outputs": [
    {
     "output_type": "stream",
     "name": "stdout",
     "text": [
      "Span [5]: \"smoking\"   [− Labels: CAUSE (0.9431)]\nSpan [13,14]: \"lung cancer\"   [− Labels: EFFECT (0.7495)]\n"
     ]
    }
   ],
   "source": [
    "s = Sentence(\"As a result of smoking, people are more likely to get lung cancer\")\n",
    "model.predict(s)\n",
    "for entity in s.get_spans('ner'):\n",
    "    print(entity)\n"
   ]
  },
  {
   "cell_type": "code",
   "execution_count": 7,
   "metadata": {},
   "outputs": [
    {
     "output_type": "execute_result",
     "data": {
      "text/plain": [
       "'Telecom minister A. Raja resignation'"
      ]
     },
     "metadata": {},
     "execution_count": 7
    }
   ],
   "source": [
    "topics[0][\"title\"]"
   ]
  },
  {
   "cell_type": "code",
   "execution_count": 10,
   "metadata": {},
   "outputs": [
    {
     "output_type": "execute_result",
     "data": {
      "text/plain": [
       "'Documents retrieved should contain information about the accusations against A. Raja in the 2G Spectrum scam. Documents that talk about his criticisms for allocating 4.4MHz of spectrum  a scarce resource  at the 2001 price of Rs 1,651 crore through a first come, first served policy rather than auctions; by compromising on the market value of spectrum, the government is estimated to have lost revenues worth around Rs 50,000 crore; new licensees are signing equity deals with foreign players in which the value of spectrum has risen sevenfold, would be considered as relevant.\\n'"
      ]
     },
     "metadata": {},
     "execution_count": 10
    }
   ],
   "source": [
    "topics[0][\"narrative\"]"
   ]
  },
  {
   "cell_type": "code",
   "execution_count": 8,
   "metadata": {},
   "outputs": [
    {
     "output_type": "execute_result",
     "data": {
      "text/plain": [
       "{'1101228_nation_story_13359273.utf8': 1,\n",
       " '1101224_nation_story_13342958.utf8': 1,\n",
       " '1101222_nation_story_13332987.utf8': 1,\n",
       " '1101218_nation_story_13316550.utf8': 1,\n",
       " '1101211_nation_story_13287065.utf8': 1,\n",
       " '1101210_frontpage_story_13282615.utf8': 1,\n",
       " '1101209_nation_story_13277777.utf8': 1,\n",
       " '1101203_nation_story_13253099.utf8': 1,\n",
       " '1101202_nation_story_13248318.utf8': 1,\n",
       " '1101130_opinion_story_13228753.utf8': 1,\n",
       " '1101126_nation_story_13224009.utf8': 1,\n",
       " '1101120_nation_story_13199747.utf8': 1,\n",
       " '1101119_frontpage_story_13195587.utf8': 1,\n",
       " '1101117_business_story_13186608.utf8': 1,\n",
       " '1101116_business_story_13182132.utf8': 1,\n",
       " '1101116_nation_story_13182738.utf8': 1,\n",
       " '1101113_nation_story_13171965.utf8': 1,\n",
       " '1101112_business_story_13167887.utf8': 1,\n",
       " '1101111_business_story_13163812.utf8': 1,\n",
       " '1101030_business_story_13118628.utf8': 1,\n",
       " '1100914_business_story_12934133.utf8': 1,\n",
       " '1100525_business_story_12484627.utf8': 1,\n",
       " '1100523_frontpage_story_12478906.utf8': 1,\n",
       " '1100512_business_story_12439536.utf8': 1,\n",
       " '1100420_business_story_12358791.utf8': 1,\n",
       " '1100408_business_story_12316032.utf8': 1,\n",
       " '1100309_business_story_12194735.utf8': 1,\n",
       " '1091031_business_story_11682361.utf8': 1,\n",
       " '1091024_business_story_11652339.utf8': 1,\n",
       " '1091023_business_story_11648333.utf8': 1,\n",
       " '1081220_nation_story_10278138.utf8': 1,\n",
       " '1081121_business_story_10142039.utf8': 1,\n",
       " '1081113_business_story_10103873.utf8': 1,\n",
       " '1070814_business_story_8190783.utf8': 1}"
      ]
     },
     "metadata": {},
     "execution_count": 8
    }
   ],
   "source": [
    "qrel[topics[0][\"number\"]]"
   ]
  },
  {
   "cell_type": "code",
   "execution_count": 18,
   "metadata": {},
   "outputs": [],
   "source": [
    "text = db.lookup_docno(\"1101119_frontpage_story_13195587.utf8\")"
   ]
  },
  {
   "cell_type": "code",
   "execution_count": 19,
   "metadata": {},
   "outputs": [],
   "source": [
    "text = Sentence(text)"
   ]
  },
  {
   "cell_type": "code",
   "execution_count": 20,
   "metadata": {},
   "outputs": [
    {
     "output_type": "stream",
     "name": "stdout",
     "text": [
      "Span [77,78,79,80]: \"loss to the exchequer\"   [− Labels: EFFECT (0.8522)]\nSpan [86]: \"decision-making\"   [− Labels: CAUSE (0.9859)]\nSpan [870]: \"loss\"   [− Labels: EFFECT (0.9411)]\nSpan [1006]: \"records\"   [− Labels: CAUSE (0.8411)]\n"
     ]
    }
   ],
   "source": [
    "model.predict(text)\n",
    "for entity in text.get_spans('ner'):\n",
    "    print(entity)\n"
   ]
  },
  {
   "cell_type": "code",
   "execution_count": 21,
   "metadata": {},
   "outputs": [
    {
     "output_type": "execute_result",
     "data": {
      "text/plain": [
       "'The Telegraph - Calcutta (Kolkata) | Frontpage | Sprinkle some zeroes to spice up a scam 1 Sprinkle some zeroes to spice up a scam OUR BUREAU Nov. 18: The spectrum controversy has embedded one figure in public consciousness: Rs 1.76 lakh crore, something that prompted Jayalalithaa to say the common man will be hard-pressed to find out how many zeroes do you add to this number. Thats the presumed loss to the exchequer as a result of the decision-making by A. Raja, who has resigned as telecom minister, while issuing telecom licences and 2G spectrum in January 2008. But what is lost in the cacophony is that this figure is based on some dodgy presumptions and raises questions about the number-crunching methods adopted by the audit sleuths at the Comptroller and Auditor General (CAG). The CAG did put out four figures in its report while calculating the notional loss to the exchequer. It had worked in the caveats as well but the largest number appears to have hogged the limelight. The big beef really was over the way Raja had spurned suggestions from several quarters, including the Prime Minister and the finance ministry, to kickstart a process of price discovery for the 2G spectrum through auctions. But hindsight can be a terrible thing and masks the perceptions and the realities that had existed at the time when the entire exercise was being carried out. No one was certain how the 3G auction would go in April this year. In fact, two months before the auction, the government had estimated in its budget for 2010-11 that it would get only Rs 35,000 crore from the auction of spectrum for 3G services as well as broadband wireless access (BWA). It will be interesting to ask with the benefit of hindsight who made this estimate and why it was never challenged by the people who now sing the virtues of price discovery from auctions. The 3G and BWA auctions yielded revenues of Rs 1.03 lakh crore, which means the government had underestimated its receipts from the auctions by almost Rs 68,000 crore. It is facile to claim that an auction would have yielded the same results for 2G licences two years ago. The truth is that Indias experience with auctions hasnt been great witness the miserable results for the oil and gas blocks over the past 10 years. But lets turn to the big figure Rs 1.76 lakh crore and see how the figure was arrived at. The loss can be broken up into three categories: the 122 new licences for 2G spectrum (an estimated loss of Rs 1,02,498 crore based on the 3G pricing terms), the 35 dual technology licences (loss of Rs 37,154 crore) and the spectrum above the contracted quantity of 6.2MHz for existing players (Rs 36,993 crore). But experts dont think this method of computing the loss to the exchequer is either fair or plausible. Says the former president of the Institute of Chartered Accountants of India, Ved Jain: The calculation based on the auction of 3G spectrum is not the right thing. The telecom scenario in the country in 2008 was completely different from 2010. The market hadnt heated up as it had during the 3G auctions. The CAG report, however, justifies the calculation on the basis of auction rates of 3G spectrum, stating that telecom regulator Trai had proposed in 2006 that it was fair to compare 2G with 3G and recommended 3G prices to be adopted as current price of 2G spectrum in 1800MHz band. Trai in another report in May this year had said that all future allocations of second generation (2G) spectrum, beyond 6.2 megahertz (MHz) for GSM players and 5MHz for CDMA players, could be sold at prices discovered through the 3G auction. With industry players contesting the proposal, Trai has gone back to the drawing board and is still debating the entire issue of pricing of 2G spectrum based on the 3G market price. This is a serious issue and there are various telecom forums that need to study the case before reaching any conclusion on the notional loss to the exchequer, said former Trai chairman Pradip Baijal. Industry experts contend that all operators who were granted spectrum in 2008 had received only start-up 2G spectrum of 4.4MHz in the telecom circles where they operate. Going by this, the CAGs estimates of the notional loss to the exchequer because of non-auction of 2G spectrum would be much below the reported Rs 1.76 lakh crore, they added. The CAG report confuses the issue a little more by coming up with three other yardsticks. The loss estimated by the CAG was around Rs 57,700 crore based on what Swan Telecom had received while offloading its equity in the market in new licences. Then again, the loss would be Rs 70,000 crore if the calculations were based on the price Unitech had earned after diluting its equity. Another criterion adopted by the CAG to work out the potential loss was based on S Tels sudden offer to pay more for 2G spectrum: it had stepped up its offer from Rs 6,000 crore to Rs 13,752 crore for the allotment of 6.2MHz of spectrum for a period of 10 years. With so many figures flying around, questions are being raised about the methods and the calculations. Instead of attempting to come to a specific value of 2G spectrum which could have been possible only through an efficient market-discovery process, we have looked at the various indicators to assess a possible (presumptive) value, from the records made available to audit rather than going for any mathematical/econometric models, said an auditor. To answer Jayalalithaas question, 10 zeroes have to be added after 176 to make it Rs 1.76 lakh crore.'"
      ]
     },
     "metadata": {},
     "execution_count": 21
    }
   ],
   "source": [
    "db.lookup_docno(\"1101119_frontpage_story_13195587.utf8\")"
   ]
  },
  {
   "cell_type": "code",
   "execution_count": 26,
   "metadata": {},
   "outputs": [],
   "source": [
    "ids, _ = bm25.query(topics[0][\"title\"], num_results=10)\n",
    "docnos = db.batch_idx_lookup(ids)"
   ]
  },
  {
   "cell_type": "code",
   "execution_count": 28,
   "metadata": {},
   "outputs": [],
   "source": [
    "texts = db.batch_docno_lookup(docnos)"
   ]
  },
  {
   "cell_type": "code",
   "execution_count": 29,
   "metadata": {
    "tags": [
     "outputPrepend"
    ]
   },
   "outputs": [
    {
     "output_type": "stream",
     "name": "stdout",
     "text": [
      "esperation to wean the Congress away from the DMK fold. Now, however, it looks like a tactical masterstroke. The average Tamil would perceive that Raja resigned only after our leader made that dramatic announcement on TV. Even if the Congress does not come to our side, weve scored an important psychological victory over the DMK, an AIADMK MP said.\n",
      "extracted relations\n",
      "Span [328,329,330]: \"offer of support\"   [− Labels: CAUSE (0.7215)]\n",
      "Span [334,335,336,337,338,339]: \"Congress into some kind of action\"   [− Labels: EFFECT (0.8452)]\n",
      "------------------------------------\n",
      "The Telegraph - Calcutta (Kolkata) | Business | Raja to clear the air on spectrum Tuesday , November 3 , 2009 Raja to clear the air on spectrum OUR CORRESPONDENT New Delhi, Nov. 2: Telecom minister A. Raja will meet the heads of telecom companies and Internet service providers from tomorrow to discuss issues such as spectrum allocation and the CBI probe into irregularities in the grant of licences. Sources said the meetings would be held over three days. Officials of the department of telecom (DoT) said, The main agenda of the meetings is to assure operators, especially the foreign players, of a smooth and transparent 3G auction process. The 3G service rollout is expected to attract foreign players and provide around Rs 35,000 crore to the government. The process is facing some hurdles that threaten to delay the auction, which the government is keen to complete by the end of this fiscal. Funds from the auction are expected to plug the governments fiscal deficit, estimated at 6.8 per cent of the gross domestic product for 2009-10. One of the issues is the delay in the vacation of spectrum by the defence authorities. Raja has sought finance minister Pranab Mukherjees intervention. If this issue is not resolved quickly, I apprehend that the revenues anticipated from 3G auction may not be forthcoming this year, Raja had stated in a letter to Mukherjee. 3G mobile phone services allow users to surf the Internet and download digital content at speeds faster than current technologies. However, the defence controversy has been swamped by the CBI investigation into the allocation of 2G spectrum to the new players in January 2008 and the consequent raids on the office of the DoT. The Opposition parties have trained their guns at Raja, with the BJP demanding his resignation. On the scheduled meetings with Raja, an executive from a top telecom firm said, We will take the opportunity to seek clarity on policy directions regarding 3G auction, spectrum allocation, licence fees and other issues in the wake of the CBI investigation. The auction is scheduled to begin on January 14, and firms will have to submit their bids by December 21. CBIs investigation was ordered by the Central Vigilance Commission, which had received several complaints about irregularities in the allotment of licences. CBI officials said they would examine all the records relating to spectrum allocation. Raja has refuted the allegations of any wrongdoing, stating that the licences and the spectrum had been allocated in accordance with the telecom policy. Last week, Raja slammed the NDA for causing the government huge losses through the auction of spectrum during its regime. On record it has been observed that the licence fee was brought down to Rs 1,000 crore to benefit some operators. The allocation and reduced licence fee are estimated to have cost Rs 1 lakh crore to the government, Raja had said. On irregularities in awarding 2G licences, Raja said the spectrum was given in compliance with the recommendations of the Telecom Regulatory Authority of India. Prime Minister Manmohan Singh was consulted, while the exercise had the clear approval of the solicitor-general. The government is keen on foreign firms participating in the 3G auction, which will bolster its collections and give it the much needed funds for its ambitious social sector programmes. It has asked foreign entities to participate in the auctions directly and later apply for licences. Foreign firms participation in a recent auction for oil blocks has been lukewarm. Only four had bid for the offshore blocks. .\n",
      "extracted relations\n",
      "Span [471,472,473]: \"government huge losses\"   [− Labels: EFFECT (0.6776)]\n",
      "Span [491,492]: \"licence fee\"   [− Labels: CAUSE (0.6823)]\n",
      "------------------------------------\n",
      "The Telegraph - Calcutta (Kolkata) | Nation | Cong beeps zero tolerance for Raja Party options open on telecom scandal Cong beeps zero tolerance for Raja - Party options open on telecom scandal OUR SPECIAL CORRESPONDENT Manmohan Singh, A Raja New Delhi, Oct. 26: If the DMK expected any moral or political support from ally Congress for its embattled telecom minister, it was in for a shock today. The Congress asked for zero tolerance on corruption and hinted that A. Rajas continuation in his job could come under a cloud if his name formally cropped up in connection with the alleged spectrum scam. Party spokesperson Shakeel Ahmed said the CBI, which has raided telecom ministry offices, had not mentioned Rajas name so far and that the Congress would respond to the demands for his resignation only if he were formally charged. He added that the Congress stood for transparency and probity in public life and expected its government to show no lenience on corruption issues. Responding to questions about the partys expectations from the government in the context of the alleged scam, Ahmed said: The law must take its own course. Although the Congress spokesperson was cautious and didnt sound critical of Raja, he didnt defend him either. Rather, the party appeared to be sending a subtle message to the government by repeatedly stressing the zero-tolerance line on corruption. Ahmed, who was minister of state under Raja when the alleged scam took place, claimed he was not involved in the matter at all. My assignments were different. The spectrum files never came to me. They used to go to the cabinet minister directly. Congress leaders conceded in private conversation that they were under no obligation to defend Raja. On the contrary, many of them recalled how Prime Minister Manmohan Singh had been reluctant to induct him and T.R. Baalu, also of the DMK, into his cabinet. There is a strong feeling among senior leaders that the spotlight on allies in such matters only highlights the difference between the Congress and other parties. Even during the first UPA governments tenure, the Congress had never defended Lalu Prasad or Baalu when they drew the Oppositions criticism for various reasons. Although Ahmed did not overtly defend Raja, he was unusually aggressive in attacking the BJP and the Left for targeting the Congress on corruption. He said the BJP, one of whose presidents was caught on television purportedly accepting a bribe (a reference to Bangaru Laxman and the 2001 Tehelka sting operation), should not accuse others of corruption. They want to extract political mileage out of anything without realising that their own hands are sullied. We can only laugh at the BJPs position, Ahmed said. The Congress rarely takes on the Left on issues of corruption but the recent election victories appeared to have emboldened it to venture into this territory. Ahmed said the CPM should clear its stand on its Kerala state secretary, Pinarayi Vijayan, who has been accused in a power scam (Lavalin), before attacking the Congress. Asked if he was accusing the CPM of double standards on corruption, he said: Of course. The entire politburo and the Kerala chief minister were against Vijayan but Prakash Karat saved him. The CPM should come clean on this.\n",
      "extracted relations\n",
      "Span [83]: \"corruption\"   [− Labels: CAUSE (0.68)]\n",
      "Span [146]: \"resignation\"   [− Labels: EFFECT (0.8821)]\n",
      "Span [248]: \"corruption\"   [− Labels: EFFECT (0.5543)]\n",
      "Span [464]: \"corruption\"   [− Labels: EFFECT (0.7495)]\n",
      "Span [568]: \"corruption\"   [− Labels: CAUSE (0.5306)]\n",
      "------------------------------------\n",
      "The Telegraph - Calcutta (Kolkata) | Nation | CBI quiz looms on Raja 2 CBI quiz looms on Raja OUR SPECIAL CORRESPONDENT A Raja New Delhi, Dec. 3: The CBI could soon question former telecom minister A. Raja and his aide R.K. Chandolia on the 2G spectrum allocation, sources said today. Sources in the CBI said investigators have completed their homework on the case, which included transcribing over 5,000 tapped telephone calls between corporate lobbyist Niira Radia and others. Some of these calls reportedly contain references to the spectrum allocation. The CBI is yet to fix dates for questioning Raja and Chandolia, who had served as his personal secretary in the ministry. Last week, in an oral submission to the Supreme Court, CBI counsel K.K. Venugopal had said the agency would try to complete its investigation within three months. Raja, who resigned as telecom minister on November 14, has said he is ready to face CBI interrogation in the matter. Chandolia, who has already been questioned by the Enforcement Directorate, was sent back from the telecom ministry to his parent department of Indian Economic Services after Kapil Sibal replaced Raja. Highly placed government sources repeated today that central vigilance commissioner P.J. Thomas could quit before Mondays Supreme Court hearing, when a public interest litigation questioning his appointment is likely to be accepted. Thomass resignation would save the government embarrassment but will also mean that he will lose immunity from prosecution. Investigating agencies will then not need the sanction of the department of personnel and training pending for nearly 10 years to prosecute him in the alleged Kerala palmolein scam. Leak inevitable: PC Home minister P. Chidambaram today said Niira Radias tapped phone conversations should not have been made public but that some of this is inevitable. See, what was recorded was a conversation of a person suspected to have violated tax laws. Now we were not recording the other end. We were recording one end and it so happened that the other end peoples conversation were recorded, he said in his first public comments on the leak. Chidambaram was the finance minister when the Central Board of Direct Taxes had sought the home ministrys permission to tap Radias phone. When there is major scam or a major tax violation, if such conversations are recorded, I dont think anyone should leak it out. But, I am afraid, some of this is inevitable, he said, speaking on the sidelines of a government event. Industry leader Ratan Tata has filed a petition in the Supreme Court, asking for a directive to the Centre to probe the leak, which he says breached his privacy.\n",
      "extracted relations\n",
      "Span [255]: \"embarrassment\"   [− Labels: EFFECT (0.6783)]\n",
      "Span [480]: \"leak\"   [− Labels: CAUSE (0.5182)]\n",
      "------------------------------------\n",
      "The Telegraph - Calcutta (Kolkata) | Business | Sleuths knock on telecom door Sleuths knock on telecom door OUR CORRESPONDENT New Delhi, Oct. 22: Sleuths from the Central Bureau of Investigation (CBI) today trooped into Sanchar Bhavan the headquarters of the department of telecommunications and pored over documents relating to the allocation of second generation (2G) licences and spectrum to new mobile telephony companies last year. The preliminary investigation was ordered by the Central Vigilance Commission, which had received several complaints about irregularities in licence allotments made in January 2008. CBI officials said they would scrutinise all the records relating to the recent allocation of spectrum (or the airwaves through which mobile calls travel). Telecom minister A. Raja, however, refuted allegations of wrongdoing and added that the licences and spectrum had been allocated in conformity with a long-standing telecom policy. The CVC had raised some questions on this (2G spectrum allocation). We have given our reply...all licences have been allocated according to telecom rules, said Raja. Ruling out the possibility of his resignation, Raja said, All decisions on spectrum licensing have been taken in consultations with the Prime Minister. Soon after the Congress alliance won the general elections in May, the political grapevine was abuzz with talk that Prime Minister Manmohan Singh wanted to drop Raja from his cabinet as he had become embroiled in the controversy over spectrum allocations. Raja had been the telecom minister in the previous government, taking over from DMK party colleague Dayanidhi Maran who had then fallen out with Karunanidhi. Despite his disapproval, Singh had to accommodate Raja and keep the DMK within the UPA fold. The controversy had erupted in early 2008 after the DoT allotted eight telecom licences and 4.4 megahertz of start-up spectrum at a price fixed in 2001 to a batch of new Indian players, including real estate firms who had no experience of running telecom operations, as also existing operators. Critics had then said the government would have earned a lot more if it had invited global bids for the spectrum that it auctioned. The Opposition, led by the BJP and Left parties, raised a ruckus over the issue in Parliament and termed the deal as manipulative and biased towards certain firms. Critics said the DoT had handed out the licences without adhering to the first come, first served principle that the Union cabinet had formulated. Moreover, licence holders had paid only Rs 1,650 crore as fees a price arrived at in 2001 when the fourth cellular licence was auctioned. With no lock-in period for the sale of promoters equity, realtors such as Swan and Unitech, who had bagged the mobile telephony licences, sold part of their stake to foreign telecom players at a premium of Rs 2,450 crore over what they had paid for the licences. The price at which the government doled out spectrum was a huge underestimation of the real price, which was discovered when the licences were sold in the marketplace. We had pointed this out then. We hope that the CBI will garner enough evidence to establish why this was done despite strong opposition, said Nilotpal Basu, CPM leader and former MP. After the criticism erupted, the DoT introduced a three-year lock-in period to forestall immediate sale of the promoters stake by start-up telecom companies. However, this rule does not apply when a strategic investor pumps money into a company by subscribing to fresh equity as in the case of the Unitech and Swan Telecom deals. The government is currently scrutinising the ownership structures and shareholding patterns of Swan Telecom and Loop Telecom to determine whether they violated any regulations. Critics also point out that while inviting applications for new telecom licences in 2007, the telecom ministry had, in an arbitrary manner, announced September 25, 2007 as the cut-off date for the submission of applications for new telecom licences. As a result, 24 companies were barred from bidding for the licences. Earlier, the DoT had announced October 1, 2007 as the cut-off date. In April, Delhi High Court quashed the telecom ministrys cut-off date for granting licences. However, the DoT is not in favour of issuing fresh licences as the number of pending applications in every circle ranges from 13 to 19 (companies). Several companies have alleged that the DoT changed the cut-off date so that entities such as Swan, Unitech, Loop, Datacom and Shyam could get the licences. So far, the DoT has provided no explanation for the sudden change in the cut-off date. Earlier this week, former Tamil Nadu chief minister J. Jayalalithaa has asked the Prime Minister to drop Raja from the cabinet for his misdemeanours in allotting spectrum. The government has currently put on hold all fresh allocation of spectrum and licences till a revised 2G spectrum allocation policy is finalised.\n",
      "extracted relations\n",
      "Span [198]: \"resignation\"   [− Labels: EFFECT (0.9443)]\n",
      "Span [307]: \"controversy\"   [− Labels: CAUSE (0.4728)]\n",
      "Span [589]: \"DoT\"   [− Labels: CAUSE (0.9412)]\n",
      "Span [592,593,594]: \"three-year lock-in period\"   [− Labels: EFFECT (0.835)]\n",
      "Span [826,827]: \"sudden change\"   [− Labels: EFFECT (0.5348)]\n",
      "------------------------------------\n",
      "The Telegraph - Calcutta (Kolkata) | Nation | DMK puts weight behind Raja, murmurs in Cong 2 DMK puts weight behind Raja, murmurs in Cong G.C. SHEKHAR Chennai, Nov. 12: The DMK threw its weight behind telecom minister A. Raja as cries for his scalp grew shriller today, and hints emerged that Jayalalithaas support offer was a masterstroke aimed at forcing the Congress hand or, in the absence of action, sucking it into the 2G spectrum controversy. DMK boss and Tamil Nadu chief minister M. Karunanidhi virtually ruled out Rajas resignation, saying he had done nothing wrong and had only gone by procedures followed by predecessors from the NDA government. Raja has not committed any crime. He only followed the same first-come-first-serve policy followed by Pramod Mahajan and Arun Shourie when no tenders were floated for spectrum. What is wrong in that? Karunanidhi asked reporters. He claimed the leaked CAG report, which held Raja responsible for selling the 2G spectrum at lower-than-market rates in 2008, was not final, and such reports had in the past made adverse comments on Prime Ministers and chief ministers too. Anyway, I would not like to comment till the report is tabled, he said. Raja denied all allegations of irregularity and dug in his heels. The question (of resignation) does not arise at all. We will prove that everything has been done according to the law. The matter is sub-judice, he said, declining further comment. The DMK boss hurriedly interjected when asked about Jayalalithaas offer to support the UPA in return for Rajas head. Claiming the Congress had closed its doors on the AIADMK chief, he said: She was waiting to occupy a vacant spot but there is no vacancy for her. Karunanidhi said there was no crisis, hence no need to discuss the matter with the Congress. The buzz, however, was that Prime Minister Manmohan Singh would take a call on Rajas resignation after his return from Seoul tonight. E.V.K.S. Elangovan, a senior Congress leader seen as a DMK-baiter and Rahul Gandhis voice in Tamil Nadu, said: Since Raja is in a government led by the Congress, which has set high standards by asking Shashi Tharoor, Kalmadi and Ashok Chavan to resign, he too should follow the Congress example. Having set the cat among the pigeons, Jayalalithaa took off for the Kodanadu Hill estate in the Nilgiris today. Although the DMK saw desperation in her open wooing of the Congress, AIADMK sources said it was a political masterstroke aimed at weakening the DMK front ahead of next years Assembly elections. Our leader knew very well the Congress will not desert the DMK easily since both are in cahoots in the spectrum scam. But by giving the Congress an open signal, she has given anti-DMK forces within the Congress, especially the likes of Rahul Gandhi, a chance to rethink the alliance, an AIADMK worker said. He said that even if Sonia Gandhi stuck with the DMK, having an alternative meant the Congress would demand more seats from the DMK for the Assembly elections. If that happened, the AIADMK would field more candidates against the Congress as they would be easier to defeat than the DMK. Also, if the Congress buckles down and does not sack Raja, it would give us a very effective campaign ammunition that the DMK and Congress are jointly condoning massive corruption, he said. Analysts said Karunanidhis ploy of harking back to the NDA regime was a step to shut out the axe Raja option once Singh returns from Seoul. Unless there are very adverse remarks by the Supreme Court on Monday, we do not see any threat to Rajas position, a DMK MP said.\n",
      "extracted relations\n",
      "Span [266]: \"sub-judice\"   [− Labels: CAUSE (0.8084)]\n",
      "Span [331]: \"crisis\"   [− Labels: EFFECT (0.8615)]\n",
      "Span [591]: \"defeat\"   [− Labels: EFFECT (0.6853)]\n",
      "Span [626,627]: \"massive corruption\"   [− Labels: EFFECT (0.4587)]\n",
      "------------------------------------\n"
     ]
    }
   ],
   "source": [
    "for text in texts:\n",
    "    print(text)\n",
    "    print(\"extracted relations\")\n",
    "    \n",
    "    s = Sentence(text)\n",
    "    model.predict(s)\n",
    "    for entity in\n",
    "        print(entity)\n",
    "\n",
    "\n",
    "    print(\"------------------------------------\")\n",
    "\n"
   ]
  },
  {
   "cell_type": "code",
   "execution_count": null,
   "metadata": {},
   "outputs": [],
   "source": [
    "# Step 1 : query system with title\n",
    "# Step 2: Run casual extractor over results a\n",
    "# Step 3: Keep results where extracted effects are similiar to the query event \n"
   ]
  },
  {
   "cell_type": "code",
   "execution_count": 6,
   "metadata": {},
   "outputs": [
    {
     "output_type": "display_data",
     "data": {
      "text/plain": "HBox(children=(FloatProgress(value=0.0, max=5.0), HTML(value='')))",
      "application/vnd.jupyter.widget-view+json": {
       "version_major": 2,
       "version_minor": 0,
       "model_id": "c4961ee6fe554f65962226a7992fc33b"
      }
     },
     "metadata": {}
    },
    {
     "output_type": "stream",
     "name": "stdout",
     "text": [
      "\nAggregate results\nAverage MAP:  0.008823529411764706\nAverage P_5:  0.08\nAverage NDCG:  0.02875344092193561\n"
     ]
    }
   ],
   "source": [
    "from collections import Counter\n",
    "from tqdm.notebook import tqdm\n",
    "\n",
    "run = {}\n",
    "for topic in tqdm(topics, total = len(topics)):\n",
    "\n",
    "    title = topic[\"title\"].strip()\n",
    "    number = topic[\"number\"]\n",
    "\n",
    "    # Step 1 : query system with title\n",
    "    initial_results, _  = bm25.query(title, num_results=10)\n",
    "    initial_docnos = db.batch_idx_lookup(initial_results)\n",
    "    initial_texts = db.batch_docno_lookup(initial_docnos)\n",
    "    \n",
    "    # Step 2: Run casual extractor over results a\n",
    "    filted_docs = {}\n",
    "\n",
    "    for idx, doc in enumerate(initial_texts):\n",
    "        sent = Sentence(doc)\n",
    "        model.predict(sent)\n",
    "\n",
    "        for relation in sent.get_spans('ner'):\n",
    "           \n",
    "            if relation.tag == \"EFFECT\" and relation.text.lower() in title.lower():\n",
    "                doc_id = initial_docnos[idx]\n",
    "                score = _[idx]\n",
    "                filted_docs[doc_id] = score\n",
    "\n",
    "    # Step 3: Keep results where extracted effects are similiar to the query event \n",
    "    run[number] = filted_docs\n",
    "\n",
    "print_cum_stats(run)"
   ]
  },
  {
   "cell_type": "code",
   "execution_count": 11,
   "metadata": {},
   "outputs": [
    {
     "output_type": "stream",
     "name": "stdout",
     "text": [
      "True 24.68444401109895 1091031_business_story_11682361.utf8\nTrue 23.32012861876966 1100525_business_story_12484627.utf8\nFalse 23.02927069348644 1101115_nation_story_13178225.utf8\nFalse 22.77542627320952 1101113_frontpage_story_13171996.utf8\nTrue 22.295120974420474 1101116_nation_story_13182738.utf8\nFalse 21.917628095873006 1091103_business_story_11692612.utf8\nFalse 21.713110664411893 1091027_nation_story_11662903.utf8\nFalse 21.666311084822727 1101204_nation_story_13257636.utf8\nTrue 21.647100653299695 1091023_business_story_11648333.utf8\nTrue 20.68277116666247 1101113_nation_story_13171965.utf8\n"
     ]
    }
   ],
   "source": [
    "for doc_id, score in run[\"16\"].items():\n",
    "    print(doc_id in qrel[\"16\"], score, doc_id)"
   ]
  },
  {
   "cell_type": "code",
   "execution_count": 12,
   "metadata": {},
   "outputs": [
    {
     "output_type": "execute_result",
     "data": {
      "text/plain": [
       "'The Telegraph - Calcutta (Kolkata) | Nation | Raja departure whets Cong appetite 2 Raja departure whets Cong appetite RADHIKA RAMASESHAN AND G.C. SHEKHAR Manmohan Singh (top), M Karunanidhi Nov. 14: If Jayalalithaas offer helped the Centre to persuade M. Karunanidhi to display good sense and ease out A. Raja, the Congress is banking on the same factor to make a run for the telecom portfolio. The formal procedure to accept Rajas resignation will kick in tomorrow morning after the Prime Minister forwards the letter to the President. The Prime Minister is likely to hold the telecom portfolio until after Parliaments winter session is over. He is expected to carry out a larger reshuffle before the AICC plenary to fill the vacancies left by the departure of Shashi Tharoor, Prithviraj Chavan and now Raja. Congress sources said the party might leverage its newfangled clout and try to get the telecom portfolio, given the potential of the berth to stir controversies. The portfolio has remained with the DMK under the first and second UPAs Dayanidhi Maran holding charge initially and then Raja straddling both the editions. But DMK sources said the party would insist on retaining the portfolio. Among the DMK aspirants for the coveted berth is T.R. Baalu, who lost out in the ministerial race two years ago, and he has been pushing his case with Karunanidhi. But deputy chief minister M.K Stalin is reportedly backing minister of state for finance S.S. Palanimanickam and wants him to be elevated to cabinet rank. Stalins contention is that Palanimanickam has been minister of state for more than seven years now and that experience would come in handy in a crucial portfolio like telecom. But the chances of A.K. Vijayan, a three-time MP from Nagapattinam, looks the brightest as he is a Dalit like Raja. The Centre and the Congress appear to have reckoned that even if the Supreme Court censured Raja again tomorrow, the negative impact would be offset by the resignation. The court will hear two petitions filed against him over the allocation of 2G spectrum. If restoring normality in Parliament that did not function on the four working days last week was the immediate objective of the UPA, the long-term aim, said sources, was to retrieve the sense of iqbal (grace) the government seems to have lost in some measure over the past few days as Raja dug in his heels. In public perception, some people are held guilty and Raja is one of them. If we sit tight and do nothing, we will be perceived as co-conspirators out to support those perceived as guilty. Hardly the sort of thing the Prime Minister would want to live with, a cabinet minister had said a few hours before Raja put in his papers. The Congress tried hard to keep the moral ground by setting itself apart from errant allies and showing up the ouster of Suresh Kalmadi and Ashok Chavan as examples. However, a source acknowledged that the argument of being compelled to stick to the coalition dharma did not wash once the BJP dragged Singh into its campaign. It is a tricky situation because people, especially the educated middle-class, who hold the Prime Minister in high regard, wonder why he is so helpless and cannot enforce his writ over corrupt ministers, a Congress Rajya Sabha MP from Tamil Nadu said in the evening. These circumstances were discussed when the Congress leadership met this morning in Parliament after paying tributes to Jawaharlal Nehru on his birth anniversary. Sources said the leaders apart from Singh, Sonia, Pranab Mukherjee and Ahmed Patel were also concerned about the ramifications on the DMKs first family politics. That Raja was backed by Rajya Sabha MP and Karunanidhis daughter Kanimozhi and her mother is no secret. But when Kanimozhis name was considered as a replacement, her half-brothers M.K. Stalin and M.K. Alagiri saw red, afraid that her rise as an independent power centre might be legitimised. After tasting success on Raja, the BJP said it would continue the campaign against corruption but without disrupting Parliament. Parliament (disruption) is a small thing. It is public opinion and our persuasion that eventually triumphed and forced the Prime Minister to coax out Rajas resignation. Henceforth, the UPA government will be on permanent notice. There will be no let-up in our pressure, said BJP spokesperson and Rajya Sabha MP Prakash Javadekar. BJP sources said had they not targeted the Prime Minister directly and asked tough questions on why he was quiet for so long, nothing would have happened. However, the AIADMK said it would continue demanding a joint parliamentary committee probe into the 2G scam. A worry for the Congress stems from the possibility that the Opposition might smell blood and raise the scope of its demands to include others such as power minister S.K. Shinde. Activist Medha Patkar and a former police officer had complained that Shinde had allegedly manipulated documents to push his relatives case in the Adarsh housing allotment. To counter the offensive, the Congress is readying dossiers in a land allocation case in the BJP-ruled Karnataka in which chief minister B.S. Yeddyurappa is alleged to have favoured his sons. Asked if Yeddyurappa would be asked to step down, Javadekar said: Why should he? There is no comparison.'"
      ]
     },
     "metadata": {},
     "execution_count": 12
    }
   ],
   "source": [
    "db.lookup_docno(\"1101115_nation_story_13178225.utf8\")"
   ]
  },
  {
   "cell_type": "code",
   "execution_count": 14,
   "metadata": {},
   "outputs": [
    {
     "output_type": "stream",
     "name": "stdout",
     "text": [
      "Span [176]: \"controversies\"   [− Labels: EFFECT (0.5998)]\nSpan [354,355]: \"negative impact\"   [− Labels: EFFECT (0.7996)]\nSpan [361]: \"resignation\"   [− Labels: CAUSE (0.8983)]\nSpan [758]: \"persuasion\"   [− Labels: CAUSE (0.7469)]\nSpan [914]: \"offensive\"   [− Labels: EFFECT (0.7078)]\n"
     ]
    }
   ],
   "source": [
    "d = 'The Telegraph - Calcutta (Kolkata) | Nation | Raja departure whets Cong appetite 2 Raja departure whets Cong appetite RADHIKA RAMASESHAN AND G.C. SHEKHAR Manmohan Singh (top), M Karunanidhi Nov. 14: If Jayalalithaas offer helped the Centre to persuade M. Karunanidhi to display good sense and ease out A. Raja, the Congress is banking on the same factor to make a run for the telecom portfolio. The formal procedure to accept Rajas resignation will kick in tomorrow morning after the Prime Minister forwards the letter to the President. The Prime Minister is likely to hold the telecom portfolio until after Parliaments winter session is over. He is expected to carry out a larger reshuffle before the AICC plenary to fill the vacancies left by the departure of Shashi Tharoor, Prithviraj Chavan and now Raja. Congress sources said the party might leverage its newfangled clout and try to get the telecom portfolio, given the potential of the berth to stir controversies. The portfolio has remained with the DMK under the first and second UPAs Dayanidhi Maran holding charge initially and then Raja straddling both the editions. But DMK sources said the party would insist on retaining the portfolio. Among the DMK aspirants for the coveted berth is T.R. Baalu, who lost out in the ministerial race two years ago, and he has been pushing his case with Karunanidhi. But deputy chief minister M.K Stalin is reportedly backing minister of state for finance S.S. Palanimanickam and wants him to be elevated to cabinet rank. Stalins contention is that Palanimanickam has been minister of state for more than seven years now and that experience would come in handy in a crucial portfolio like telecom. But the chances of A.K. Vijayan, a three-time MP from Nagapattinam, looks the brightest as he is a Dalit like Raja. The Centre and the Congress appear to have reckoned that even if the Supreme Court censured Raja again tomorrow, the negative impact would be offset by the resignation. The court will hear two petitions filed against him over the allocation of 2G spectrum. If restoring normality in Parliament that did not function on the four working days last week was the immediate objective of the UPA, the long-term aim, said sources, was to retrieve the sense of iqbal (grace) the government seems to have lost in some measure over the past few days as Raja dug in his heels. In public perception, some people are held guilty and Raja is one of them. If we sit tight and do nothing, we will be perceived as co-conspirators out to support those perceived as guilty. Hardly the sort of thing the Prime Minister would want to live with, a cabinet minister had said a few hours before Raja put in his papers. The Congress tried hard to keep the moral ground by setting itself apart from errant allies and showing up the ouster of Suresh Kalmadi and Ashok Chavan as examples. However, a source acknowledged that the argument of being compelled to stick to the coalition dharma did not wash once the BJP dragged Singh into its campaign. It is a tricky situation because people, especially the educated middle-class, who hold the Prime Minister in high regard, wonder why he is so helpless and cannot enforce his writ over corrupt ministers, a Congress Rajya Sabha MP from Tamil Nadu said in the evening. These circumstances were discussed when the Congress leadership met this morning in Parliament after paying tributes to Jawaharlal Nehru on his birth anniversary. Sources said the leaders apart from Singh, Sonia, Pranab Mukherjee and Ahmed Patel were also concerned about the ramifications on the DMKs first family politics. That Raja was backed by Rajya Sabha MP and Karunanidhis daughter Kanimozhi and her mother is no secret. But when Kanimozhis name was considered as a replacement, her half-brothers M.K. Stalin and M.K. Alagiri saw red, afraid that her rise as an independent power centre might be legitimised. After tasting success on Raja, the BJP said it would continue the campaign against corruption but without disrupting Parliament. Parliament (disruption) is a small thing. It is public opinion and our persuasion that eventually triumphed and forced the Prime Minister to coax out Rajas resignation. Henceforth, the UPA government will be on permanent notice. There will be no let-up in our pressure, said BJP spokesperson and Rajya Sabha MP Prakash Javadekar. BJP sources said had they not targeted the Prime Minister directly and asked tough questions on why he was quiet for so long, nothing would have happened. However, the AIADMK said it would continue demanding a joint parliamentary committee probe into the 2G scam. A worry for the Congress stems from the possibility that the Opposition might smell blood and raise the scope of its demands to include others such as power minister S.K. Shinde. Activist Medha Patkar and a former police officer had complained that Shinde had allegedly manipulated documents to push his relatives case in the Adarsh housing allotment. To counter the offensive, the Congress is readying dossiers in a land allocation case in the BJP-ruled Karnataka in which chief minister B.S. Yeddyurappa is alleged to have favoured his sons. Asked if Yeddyurappa would be asked to step down, Javadekar said: Why should he? There is no comparison.'\n",
    "s = Sentence(d)\n",
    "\n",
    "model.predict(s)\n",
    "for entity in s.get_spans('ner'):\n",
    "    print(entity)\n",
    "\n"
   ]
  },
  {
   "cell_type": "code",
   "execution_count": 7,
   "metadata": {},
   "outputs": [
    {
     "output_type": "display_data",
     "data": {
      "text/plain": "HBox(children=(FloatProgress(value=0.0, max=5.0), HTML(value='')))",
      "application/vnd.jupyter.widget-view+json": {
       "version_major": 2,
       "version_minor": 0,
       "model_id": "8fcc4d19e8154fc999f156f9a6972fff"
      }
     },
     "metadata": {}
    },
    {
     "output_type": "stream",
     "name": "stdout",
     "text": [
      "\nAggregate results\nAverage MAP:  0.3482026053581781\nAverage P_5:  0.6400000000000001\nAverage NDCG:  0.4856021664613019\n"
     ]
    }
   ],
   "source": [
    "from collections import Counter\n",
    "from tqdm.notebook import tqdm\n",
    "\n",
    "run = {}\n",
    "for topic in tqdm(topics, total = len(topics)):\n",
    "\n",
    "    title = topic[\"title\"].strip()\n",
    "    number = topic[\"number\"]\n",
    "\n",
    "    # Step 1 : query system with title\n",
    "    initial_results, _  = bm25.query(title, num_results=10)\n",
    "    initial_docnos = db.batch_idx_lookup(initial_results)\n",
    "    initial_texts = db.batch_docno_lookup(initial_docnos)\n",
    "    \n",
    "    results = dict(zip(initial_docnos, _))\n",
    "\n",
    "    # Step 2: Run casual extractor over results a\n",
    "    # filted_docs = {}\n",
    "\n",
    "    # for idx, doc in enumerate(initial_texts):\n",
    "    #     sent = Sentence(doc)\n",
    "    #     model.predict(sent)\n",
    "\n",
    "    #     for relation in sent.get_spans('ner'):\n",
    "           \n",
    "    #         if relation.tag == \"EFFECT\" and relation.text.lower() in title.lower():\n",
    "    #             doc_id = initial_docnos[idx]\n",
    "    #             score = _[idx]\n",
    "    #             filted_docs[doc_id] = score\n",
    "\n",
    "    # Step 3: Keep results where extracted effects are similiar to the query event \n",
    "    run[number] = results\n",
    "\n",
    "print_cum_stats(run)"
   ]
  },
  {
   "cell_type": "code",
   "execution_count": null,
   "metadata": {},
   "outputs": [],
   "source": []
  }
 ]
}